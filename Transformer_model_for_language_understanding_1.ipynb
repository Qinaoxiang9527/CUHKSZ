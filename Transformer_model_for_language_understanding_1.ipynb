{
  "cells": [
    {
      "cell_type": "markdown",
      "metadata": {
        "id": "view-in-github",
        "colab_type": "text"
      },
      "source": [
        "<a href=\"https://colab.research.google.com/github/Qinaoxiang9527/CUHKSZ/blob/main/Transformer_model_for_language_understanding_1.ipynb\" target=\"_parent\"><img src=\"https://colab.research.google.com/assets/colab-badge.svg\" alt=\"Open In Colab\"/></a>"
      ]
    },
    {
      "cell_type": "markdown",
      "metadata": {
        "id": "J0Qjg6vuaHNt"
      },
      "source": [
        "# Transformer model for language understanding"
      ]
    },
    {
      "cell_type": "markdown",
      "metadata": {
        "id": "M-f8TnGpE_ex"
      },
      "source": [
        "This model trains a <a href=\"https://arxiv.org/abs/1706.03762\" class=\"external\">Transformer model</a> to translate Portuguese to English. This is an advanced example that assumes knowledge of [text generation](text_generation.ipynb) and [attention](nmt_with_attention.ipynb).\n",
        "\n",
        "The core idea behind the Transformer model is *self-attention*—the ability to attend to different positions of the input sequence to compute a representation of that sequence. Transformer creates stacks of self-attention layers and is explained below in the sections *Scaled dot product attention* and *Multi-head attention*.\n",
        "\n",
        "A transformer model handles variable-sized input using stacks of self-attention layers instead of [RNNs](text_classification_rnn.ipynb) or [CNNs](../images/intro_to_cnns.ipynb). This general architecture has a number of advantages:\n",
        "\n",
        "* It make no assumptions about the temporal/spatial relationships across the data. This is ideal for processing a set of objects (for example, [StarCraft units](https://deepmind.com/blog/alphastar-mastering-real-time-strategy-game-starcraft-ii/#block-8)).\n",
        "* Layer outputs can be calculated in parallel, instead of a series like an RNN.\n",
        "* Distant items can affect each other's output without passing through many RNN-steps, or convolution layers (see [Scene Memory Transformer](https://arxiv.org/pdf/1903.03878.pdf) for example).\n",
        "* It can learn long-range dependencies. This is a challenge in many sequence tasks.\n",
        "\n",
        "The downsides of this architecture are:\n",
        "\n",
        "* For a time-series, the output for a time-step is calculated from the *entire history* instead of only the inputs and current hidden-state. This _may_ be less efficient.   \n",
        "* If the input *does* have a  temporal/spatial relationship, like text, some positional encoding must be added or the model will effectively see a bag of words.\n",
        "\n",
        "After training the model in this notebook, you will be able to input a Portuguese sentence and return the English translation.\n",
        "\n",
        "<img src=\"https://www.tensorflow.org/images/tutorials/transformer/attention_map_portuguese.png\" width=\"800\" alt=\"Attention heatmap\">\n"
      ]
    },
    {
      "cell_type": "code",
      "execution_count": null,
      "metadata": {
        "colab": {
          "base_uri": "https://localhost:8080/"
        },
        "id": "XFG0NDRu5mYQ",
        "outputId": "b7d8174f-fd77-471b-bede-10eb1871b7f4"
      },
      "outputs": [
        {
          "output_type": "stream",
          "name": "stdout",
          "text": [
            "\u001b[?25l   \u001b[90m━━━━━━━━━━━━━━━━━━━━━━━━━━━━━━━━━━━━━━━━\u001b[0m \u001b[32m0.0/5.3 MB\u001b[0m \u001b[31m?\u001b[0m eta \u001b[36m-:--:--\u001b[0m\r\u001b[2K   \u001b[91m━━━━━━━━━━━━━━━━━━━━━━━━━━━━━━━━━━\u001b[0m\u001b[91m╸\u001b[0m\u001b[90m━━━━━\u001b[0m \u001b[32m4.6/5.3 MB\u001b[0m \u001b[31m139.5 MB/s\u001b[0m eta \u001b[36m0:00:01\u001b[0m\r\u001b[2K   \u001b[91m━━━━━━━━━━━━━━━━━━━━━━━━━━━━━━━━━━━━━━━\u001b[0m\u001b[91m╸\u001b[0m \u001b[32m5.3/5.3 MB\u001b[0m \u001b[31m125.3 MB/s\u001b[0m eta \u001b[36m0:00:01\u001b[0m\r\u001b[2K   \u001b[90m━━━━━━━━━━━━━━━━━━━━━━━━━━━━━━━━━━━━━━━━\u001b[0m \u001b[32m5.3/5.3 MB\u001b[0m \u001b[31m67.8 MB/s\u001b[0m eta \u001b[36m0:00:00\u001b[0m\n",
            "\u001b[?25h"
          ]
        }
      ],
      "source": [
        "# only run this if you have not installed tfds-nightly\n",
        "!pip install -q tfds-nightly\n",
        "\n",
        "# Pin matplotlib version to 3.2.2 since in the latest version\n",
        "# transformer.ipynb fails with the following error:\n",
        "# https://stackoverflow.com/questions/62953704/valueerror-the-number-of-fixedlocator-locations-5-usually-from-a-call-to-set\n",
        "# !pip install matplotlib==3.2.2"
      ]
    },
    {
      "cell_type": "code",
      "execution_count": null,
      "metadata": {
        "colab": {
          "base_uri": "https://localhost:8080/"
        },
        "id": "wQGTVPpfSsVo",
        "outputId": "effda559-cbee-40c9-ebd4-32b29d82cac5"
      },
      "outputs": [
        {
          "output_type": "stream",
          "name": "stdout",
          "text": [
            "Enabling notebook extension jupyter-js-widgets/extension...\n",
            "Paths used for configuration of notebook: \n",
            "    \t/root/.jupyter/nbconfig/notebook.json\n",
            "Paths used for configuration of notebook: \n",
            "    \t\n",
            "      - Validating: \u001b[32mOK\u001b[0m\n",
            "Paths used for configuration of notebook: \n",
            "    \t/root/.jupyter/nbconfig/notebook.json\n"
          ]
        }
      ],
      "source": [
        "# run this if you cannot download dataset\n",
        "!jupyter nbextension enable --py widgetsnbextension"
      ]
    },
    {
      "cell_type": "code",
      "execution_count": null,
      "metadata": {
        "id": "JjJJyJTZYebt"
      },
      "outputs": [],
      "source": [
        "import tensorflow_datasets as tfds\n",
        "import tensorflow as tf\n",
        "\n",
        "import time\n",
        "import numpy as np\n",
        "import matplotlib.pyplot as plt"
      ]
    },
    {
      "cell_type": "markdown",
      "metadata": {
        "id": "fd1NWMxjfsDd"
      },
      "source": [
        "## 0 - Setup input pipeline\n",
        "\n",
        "Use [TFDS](https://www.tensorflow.org/datasets) to load the [Portugese-English translation dataset](https://github.com/neulab/word-embeddings-for-nmt) from the [TED Talks Open Translation Project](https://www.ted.com/participate/translate).\n",
        "\n",
        "This dataset contains approximately 50000 training examples, 1100 validation examples, and 2000 test examples. It may take a long of time so please be patient."
      ]
    },
    {
      "cell_type": "code",
      "execution_count": null,
      "metadata": {
        "colab": {
          "base_uri": "https://localhost:8080/"
        },
        "id": "8q9t4FmN96eN",
        "outputId": "cafbe847-8512-4e57-dba6-6e59b7e0621a"
      },
      "outputs": [
        {
          "output_type": "stream",
          "name": "stderr",
          "text": [
            "WARNING:absl:Variant folder /root/tensorflow_datasets/ted_hrlr_translate/pt_to_en/1.0.0 has no dataset_info.json\n"
          ]
        },
        {
          "output_type": "stream",
          "name": "stdout",
          "text": [
            "Downloading and preparing dataset Unknown size (download: Unknown size, generated: Unknown size, total: Unknown size) to /root/tensorflow_datasets/ted_hrlr_translate/pt_to_en/1.0.0...\n",
            "Dataset ted_hrlr_translate downloaded and prepared to /root/tensorflow_datasets/ted_hrlr_translate/pt_to_en/1.0.0. Subsequent calls will reuse this data.\n"
          ]
        }
      ],
      "source": [
        "tfds.disable_progress_bar()\n",
        "examples, metadata = tfds.load('ted_hrlr_translate/pt_to_en', with_info=True,\n",
        "                               as_supervised=True) # you may encounter errors running this line, make sure you install the right version of tensorflow, tfds, and enable extentsions above\n",
        "train_examples, val_examples = examples['train'], examples['validation']"
      ]
    },
    {
      "cell_type": "markdown",
      "metadata": {
        "id": "RCEKotqosGfq"
      },
      "source": [
        "Create a custom subwords tokenizer from the training dataset."
      ]
    },
    {
      "cell_type": "code",
      "execution_count": null,
      "metadata": {
        "id": "KVBg5Q8tBk5z"
      },
      "outputs": [],
      "source": [
        "tokenizer_en = tfds.deprecated.text.SubwordTextEncoder.build_from_corpus(\n",
        "    (en.numpy() for pt, en in train_examples), target_vocab_size=2**13)\n",
        "\n",
        "tokenizer_pt = tfds.deprecated.text.SubwordTextEncoder.build_from_corpus(\n",
        "    (pt.numpy() for pt, en in train_examples), target_vocab_size=2**13)"
      ]
    },
    {
      "cell_type": "code",
      "execution_count": null,
      "metadata": {
        "colab": {
          "base_uri": "https://localhost:8080/"
        },
        "id": "4DYWukNFkGQN",
        "outputId": "0aae2d26-bf3c-4f96-80b5-8309ae9f4ced"
      },
      "outputs": [
        {
          "output_type": "stream",
          "name": "stdout",
          "text": [
            "Tokenized string is [7915, 1248, 7946, 7194, 13, 2799, 7877]\n",
            "The original string: Transformer is awesome.\n"
          ]
        }
      ],
      "source": [
        "sample_string = 'Transformer is awesome.'\n",
        "\n",
        "tokenized_string = tokenizer_en.encode(sample_string)\n",
        "print ('Tokenized string is {}'.format(tokenized_string))\n",
        "\n",
        "original_string = tokenizer_en.decode(tokenized_string)\n",
        "print ('The original string: {}'.format(original_string))\n",
        "\n",
        "assert original_string == sample_string"
      ]
    },
    {
      "cell_type": "markdown",
      "metadata": {
        "id": "o9KJWJjrsZ4Y"
      },
      "source": [
        "The tokenizer encodes the string by breaking it into subwords if the word is not in its dictionary."
      ]
    },
    {
      "cell_type": "code",
      "execution_count": null,
      "metadata": {
        "colab": {
          "base_uri": "https://localhost:8080/"
        },
        "id": "bf2ntBxjkqK6",
        "outputId": "a1bc492e-d05d-4e6e-edba-cc6adeb9fc54"
      },
      "outputs": [
        {
          "output_type": "stream",
          "name": "stdout",
          "text": [
            "7915 ----> T\n",
            "1248 ----> ran\n",
            "7946 ----> s\n",
            "7194 ----> former \n",
            "13 ----> is \n",
            "2799 ----> awesome\n",
            "7877 ----> .\n"
          ]
        }
      ],
      "source": [
        "for ts in tokenized_string:\n",
        "  print ('{} ----> {}'.format(ts, tokenizer_en.decode([ts])))"
      ]
    },
    {
      "cell_type": "code",
      "execution_count": null,
      "metadata": {
        "id": "bcRp7VcQ5m6g"
      },
      "outputs": [],
      "source": [
        "BUFFER_SIZE = 20000\n",
        "BATCH_SIZE = 64"
      ]
    },
    {
      "cell_type": "markdown",
      "metadata": {
        "id": "kGi4PoVakxdc"
      },
      "source": [
        "Add a start and end token to the input and target."
      ]
    },
    {
      "cell_type": "code",
      "execution_count": null,
      "metadata": {
        "id": "UZwnPr4R055s"
      },
      "outputs": [],
      "source": [
        "def encode(lang1, lang2):\n",
        "  lang1 = [tokenizer_pt.vocab_size] + tokenizer_pt.encode(\n",
        "      lang1.numpy()) + [tokenizer_pt.vocab_size+1]\n",
        "\n",
        "  lang2 = [tokenizer_en.vocab_size] + tokenizer_en.encode(\n",
        "      lang2.numpy()) + [tokenizer_en.vocab_size+1]\n",
        "\n",
        "  return lang1, lang2"
      ]
    },
    {
      "cell_type": "markdown",
      "metadata": {
        "id": "Tx1sFbR-9fRs"
      },
      "source": [
        "You want to use `Dataset.map` to apply this function to each element of the dataset.  `Dataset.map` runs in graph mode.\n",
        "\n",
        "* Graph tensors do not have a value.\n",
        "* In graph mode you can only use TensorFlow Ops and functions.\n",
        "\n",
        "So you can't `.map` this function directly: You need to wrap it in a `tf.py_function`. The `tf.py_function` will pass regular tensors (with a value and a `.numpy()` method to access it), to the wrapped python function."
      ]
    },
    {
      "cell_type": "code",
      "execution_count": null,
      "metadata": {
        "id": "Mah1cS-P70Iz"
      },
      "outputs": [],
      "source": [
        "def tf_encode(pt, en):\n",
        "  result_pt, result_en = tf.py_function(encode, [pt, en], [tf.int64, tf.int64])\n",
        "  result_pt.set_shape([None])\n",
        "  result_en.set_shape([None])\n",
        "\n",
        "  return result_pt, result_en"
      ]
    },
    {
      "cell_type": "markdown",
      "metadata": {
        "id": "6JrGp5Gek6Ql"
      },
      "source": [
        "Note: To keep this example small and relatively fast, drop examples with a length of over 25 tokens."
      ]
    },
    {
      "cell_type": "code",
      "execution_count": null,
      "metadata": {
        "id": "2QEgbjntk6Yf"
      },
      "outputs": [],
      "source": [
        "MAX_LENGTH = 25"
      ]
    },
    {
      "cell_type": "code",
      "execution_count": null,
      "metadata": {
        "id": "c081xPGv1CPI"
      },
      "outputs": [],
      "source": [
        "def filter_max_length(x, y, max_length=MAX_LENGTH):\n",
        "  return tf.logical_and(tf.size(x) <= max_length,\n",
        "                        tf.size(y) <= max_length)"
      ]
    },
    {
      "cell_type": "code",
      "execution_count": null,
      "metadata": {
        "id": "9mk9AZdZ5bcS"
      },
      "outputs": [],
      "source": [
        "train_dataset = train_examples.map(tf_encode)\n",
        "train_dataset = train_dataset.filter(filter_max_length)\n",
        "# cache the dataset to memory to get a speedup while reading from it.\n",
        "train_dataset = train_dataset.cache()\n",
        "train_dataset = train_dataset.shuffle(BUFFER_SIZE).padded_batch(BATCH_SIZE)\n",
        "train_dataset = train_dataset.prefetch(tf.data.experimental.AUTOTUNE)\n",
        "\n",
        "\n",
        "val_dataset = val_examples.map(tf_encode)\n",
        "val_dataset = val_dataset.filter(filter_max_length).padded_batch(BATCH_SIZE)"
      ]
    },
    {
      "cell_type": "code",
      "execution_count": null,
      "metadata": {
        "colab": {
          "base_uri": "https://localhost:8080/"
        },
        "id": "_fXvfYVfQr2n",
        "outputId": "5230ac41-b339-47d0-d025-7b1dbc86c168"
      },
      "outputs": [
        {
          "output_type": "execute_result",
          "data": {
            "text/plain": [
              "(<tf.Tensor: shape=(64, 23), dtype=int64, numpy=\n",
              " array([[8214,  342, 3032, ...,    0,    0,    0],\n",
              "        [8214,   95,  198, ...,    0,    0,    0],\n",
              "        [8214, 4479, 7990, ...,    0,    0,    0],\n",
              "        ...,\n",
              "        [8214,    6,   49, ...,    0,    0,    0],\n",
              "        [8214,   62,    4, ...,    0,    0,    0],\n",
              "        [8214,    8,  192, ...,    0,    0,    0]])>,\n",
              " <tf.Tensor: shape=(64, 25), dtype=int64, numpy=\n",
              " array([[8087,   98,   25, ...,    0,    0,    0],\n",
              "        [8087,   12,   20, ...,    0,    0,    0],\n",
              "        [8087,   12, 5453, ...,    0,    0,    0],\n",
              "        ...,\n",
              "        [8087,    4,   19, ...,    0,    0,    0],\n",
              "        [8087,   15,   24, ...,    0,    0,    0],\n",
              "        [8087,   18,   10, ...,    0,    0,    0]])>)"
            ]
          },
          "metadata": {},
          "execution_count": 14
        }
      ],
      "source": [
        "pt_batch, en_batch = next(iter(val_dataset))\n",
        "pt_batch, en_batch"
      ]
    },
    {
      "cell_type": "markdown",
      "metadata": {
        "id": "nBQuibYA4n0n"
      },
      "source": [
        "<a name='1'></a>\n",
        "## 1 - Positional Encoding\n",
        "\n",
        "In sequence to sequence tasks, the relative order of your data is extremely important to its meaning. When you were training sequential neural networks such as RNNs, you fed your inputs into the network in order. Information about the order of your data was automatically fed into your model.  However, when you train a Transformer network, you feed your data into the model all at once. While this dramatically reduces training time, there is no information about the order of your data. This is where positional encoding is useful - you can specifically encode the positions of your inputs and pass them into the network using these sine and cosine formulas:\n",
        "    \n",
        "$$\n",
        "PE_{(pos, 2i)}= sin\\left(\\frac{pos}{{10000}^{\\frac{2i}{d}}}\\right)\n",
        "\\tag{1}$$\n",
        "<br>\n",
        "$$\n",
        "PE_{(pos, 2i+1)}= cos\\left(\\frac{pos}{{10000}^{\\frac{2i}{d}}}\\right)\n",
        "\\tag{2}$$\n",
        "\n",
        "* $d$ is the dimension of the word embedding and positional encoding\n",
        "* $pos$ is the position of the word.\n",
        "* $i$ refers to each of the different dimensions of the positional encoding.\n",
        "\n",
        "The values of the sine and cosine equations are small enough (between -1 and 1) that when you add the positional encoding to a word embedding, the word embedding is not significantly distorted. The sum of the positional encoding and word embeding is ultimately what is fed into the model. Using a combination of these two equations helps your Transformer network attend to the relative positions of your input data. Note that in this assignment, all vectors are horizontal. All matrix multiplications should be adjusted accordingly.\n",
        "\n",
        "<a name='1-1'></a>\n",
        "### 1.1 - Sine and Cosine Angles\n",
        "\n",
        "Get the possible angles used to compute the positional encodings by calculating the inner term of the sine and cosine equations:\n",
        "\n",
        "$$\\frac{pos}{10000^{\\frac{2i}{d}}} \\tag{3}$$\n",
        "\n",
        "<a name='ex-1'></a>\n",
        "### Exercise 1 - get_angles\n",
        "\n",
        "Implement the function `get_angles()` to calculate the possible angles for the sine and cosine  positional encodings"
      ]
    },
    {
      "cell_type": "code",
      "execution_count": null,
      "metadata": {
        "id": "WhIOZjMNKujn"
      },
      "outputs": [],
      "source": [
        "def get_angles(pos, i, dim):\n",
        "  angle_rates = 1 / np.power(10000, (2 * (i//2)) / np.float32(dim))\n",
        "  return pos * angle_rates"
      ]
    },
    {
      "cell_type": "markdown",
      "metadata": {
        "id": "kaK3di8JSsVr"
      },
      "source": [
        "<a name='1-2'></a>\n",
        "### 1.2 - Sine and Cosine Positional Encodings\n",
        "\n",
        "Now you can use the angles you computed to calculate the sine and cosine positional encodings.\n",
        "\n",
        "$$\n",
        "PE_{(pos, 2i)}= sin\\left(\\frac{pos}{{10000}^{\\frac{2i}{d}}}\\right)\n",
        "$$\n",
        "<br>\n",
        "$$\n",
        "PE_{(pos, 2i+1)}= cos\\left(\\frac{pos}{{10000}^{\\frac{2i}{d}}}\\right)\n",
        "$$\n",
        "\n",
        "\n",
        "<a name='ex-2'></a>\n",
        "### Exercise 2 - positional_encoding\n",
        "\n",
        "Implement the function `positional_encoding()` to calculate the sine and cosine  positional encodings\n",
        "\n",
        "**Reminder:** Use the sine equation when $i$ is an even number and the cosine equation when $i$ is an odd number.\n"
      ]
    },
    {
      "cell_type": "code",
      "execution_count": null,
      "metadata": {
        "id": "1Rz82wEs5biZ"
      },
      "outputs": [],
      "source": [
        "def positional_encoding(position, dim):\n",
        "  angle_rads = get_angles(np.arange(position)[:, np.newaxis],\n",
        "                          np.arange(dim)[np.newaxis, :],\n",
        "                          dim)\n",
        "\n",
        "  # apply sin to even indices in the array; 2i\n",
        "  angle_rads[:, 0::2] = np.sin(angle_rads[:, 0::2])\n",
        "\n",
        "  # apply cos to odd indices in the array; 2i+1\n",
        "  angle_rads[:, 1::2] = np.cos(angle_rads[:, 1::2])\n",
        "\n",
        "  pos_encoding = angle_rads[np.newaxis, ...]\n",
        "\n",
        "  return tf.cast(pos_encoding, dtype=tf.float32)"
      ]
    },
    {
      "cell_type": "code",
      "execution_count": null,
      "metadata": {
        "colab": {
          "base_uri": "https://localhost:8080/",
          "height": 472
        },
        "id": "1kLCla68EloE",
        "outputId": "defec620-0e1e-440b-b357-426d75acd90c"
      },
      "outputs": [
        {
          "output_type": "stream",
          "name": "stdout",
          "text": [
            "(1, 200, 512)\n"
          ]
        },
        {
          "output_type": "display_data",
          "data": {
            "text/plain": [
              "<Figure size 640x480 with 2 Axes>"
            ],
            "image/png": "[encoded data removed]"
          },
          "metadata": {}
        }
      ],
      "source": [
        "pos_encoding = positional_encoding(200, 512)\n",
        "\n",
        "print (pos_encoding.shape)\n",
        "\n",
        "plt.pcolormesh(pos_encoding[0], cmap='RdBu')\n",
        "plt.xlabel('d')\n",
        "plt.xlim((0, 256))\n",
        "plt.ylabel('Position')\n",
        "plt.colorbar()\n",
        "plt.show()"
      ]
    },
    {
      "cell_type": "markdown",
      "metadata": {
        "id": "s42Uydjkv0hF"
      },
      "source": [
        "<a name='2'></a>\n",
        "## 2 - Masking\n",
        "\n",
        "There are two types of masks that are useful when building your Transformer network: the *padding mask* and the *look-ahead mask*. Both help the softmax computation give the appropriate weights to the words in your input sentence.\n",
        "\n",
        "<a name='2-1'></a>\n",
        "### 2.1 - Padding Mask\n",
        "\n",
        "Oftentimes your input sequence will exceed the maximum length of a sequence your network can process. Let's say the maximum length of your model is five, it is fed the following sequences:\n",
        "\n",
        "    [[\"Do\", \"you\", \"know\", \"when\", \"Jane\", \"is\", \"going\", \"to\", \"visit\", \"Africa\"],\n",
        "     [\"Jane\", \"visits\", \"Africa\", \"in\", \"September\" ],\n",
        "     [\"Exciting\", \"!\"]\n",
        "    ]\n",
        "\n",
        "which might get vectorized as:\n",
        "\n",
        "    [[ 71, 121, 4, 56, 99, 2344, 345, 1284, 15],\n",
        "     [ 56, 1285, 15, 181, 545],\n",
        "     [ 87, 600]\n",
        "    ]\n",
        "    \n",
        "When passing sequences into a transformer model, it is important that they are of uniform length. You can achieve this by padding the sequence with zeros, and truncating sentences that exceed the maximum length of your model:\n",
        "\n",
        "    [[ 71, 121, 4, 56, 99],\n",
        "     [ 2344, 345, 1284, 15, 0],\n",
        "     [ 56, 1285, 15, 181, 545],\n",
        "     [ 87, 600, 0, 0, 0],\n",
        "    ]\n",
        "    \n",
        "Sequences longer than the maximum length of five will be truncated, and zeros will be added to the truncated sequence to achieve uniform length. Similarly, for sequences shorter than the maximum length, they zeros will also be added for padding. However, these zeros will affect the softmax calculation - this is when a padding mask comes in handy! By multiplying a padding mask by -1e9 and adding it to your sequence, you mask out the zeros by setting them to close to negative infinity. We'll implement this for you so you can get to the fun of building the Transformer network!\n",
        "\n",
        "After masking, your input should go from `[87, 600, 0, 0, 0]` to `[87, 600, -1e9, -1e9, -1e9]`, so that when you take the softmax, the zeros don't affect the score.\n"
      ]
    },
    {
      "cell_type": "code",
      "execution_count": null,
      "metadata": {
        "id": "U2i8-e1s8ti9"
      },
      "outputs": [],
      "source": [
        "def create_padding_mask(seq):\n",
        "  seq = tf.cast(tf.math.equal(seq, 0), tf.float32)\n",
        "\n",
        "  # add extra dimensions to add the padding\n",
        "  # to the attention logits.\n",
        "  return seq[:, tf.newaxis, tf.newaxis, :]  # (batch_size, 1, 1, seq_len) notice that we add two new dimension here in order to broad cast to the multi-head dimension and query dimenion"
      ]
    },
    {
      "cell_type": "code",
      "execution_count": null,
      "metadata": {
        "colab": {
          "base_uri": "https://localhost:8080/"
        },
        "id": "A7BYeBCNvi7n",
        "outputId": "c1f58853-affe-4fcb-99de-e16f9abfecb8"
      },
      "outputs": [
        {
          "output_type": "execute_result",
          "data": {
            "text/plain": [
              "<tf.Tensor: shape=(3, 1, 1, 5), dtype=float32, numpy=\n",
              "array([[[[0., 0., 1., 1., 0.]]],\n",
              "\n",
              "\n",
              "       [[[0., 0., 0., 1., 1.]]],\n",
              "\n",
              "\n",
              "       [[[1., 1., 1., 0., 0.]]]], dtype=float32)>"
            ]
          },
          "metadata": {},
          "execution_count": 19
        }
      ],
      "source": [
        "x = tf.constant([[7, 6, 0, 0, 1], [1, 2, 3, 0, 0], [0, 0, 0, 4, 5]])\n",
        "create_padding_mask(x)"
      ]
    },
    {
      "cell_type": "markdown",
      "metadata": {
        "id": "Z0hzukDBgVom"
      },
      "source": [
        "<a name='2-2'></a>\n",
        "### 2.2 - Look-ahead Mask\n",
        "\n",
        "The look-ahead mask follows similar intuition. In training, you will have access to the complete correct output of your training example. The look-ahead mask helps your model pretend that it correctly predicted a part of the output and see if, *without looking ahead*, it can correctly predict the next output.\n",
        "\n",
        "For example, if the expected correct output is `[1, 2, 3]` and you wanted to see if given that the model correctly predicted the first value it could predict the second value, you would mask out the second and third values. So you would input the masked sequence `[1, -1e9, -1e9]` and see if it could generate `[1, 2, -1e9]`.\n",
        "\n",
        "To implement look-ahead mask, we will use the [band_part](https://www.tensorflow.org/api_docs/python/tf/linalg/band_part) function in the tf.linalg library."
      ]
    },
    {
      "cell_type": "code",
      "execution_count": null,
      "metadata": {
        "id": "dVxS8OPI9uI0"
      },
      "outputs": [],
      "source": [
        "def create_look_ahead_mask(size):\n",
        "\n",
        "  mask = 1 - tf.linalg.band_part(tf.ones((size, size)), -1, 0)\n",
        "  return mask  # (seq_len, seq_len)"
      ]
    },
    {
      "cell_type": "code",
      "execution_count": null,
      "metadata": {
        "colab": {
          "base_uri": "https://localhost:8080/"
        },
        "id": "yxKGuXxaBeeE",
        "outputId": "021c9f9c-39ef-46c5-b7f4-fa5dfb4bc4cd"
      },
      "outputs": [
        {
          "output_type": "execute_result",
          "data": {
            "text/plain": [
              "<tf.Tensor: shape=(3, 3), dtype=float32, numpy=\n",
              "array([[0., 1., 1.],\n",
              "       [0., 0., 1.],\n",
              "       [0., 0., 0.]], dtype=float32)>"
            ]
          },
          "metadata": {},
          "execution_count": 21
        }
      ],
      "source": [
        "x = tf.random.uniform((1, 3))\n",
        "temp = create_look_ahead_mask(x.shape[1])\n",
        "temp"
      ]
    },
    {
      "cell_type": "markdown",
      "metadata": {
        "id": "vsxEE_-Wa1gF"
      },
      "source": [
        "## 3 - Self-Attention\n",
        "\n",
        "### 3.1 - Single-Head Attention\n",
        "\n",
        "<img src=\"https://www.tensorflow.org/images/tutorials/transformer/scaled_attention.png\" width=\"500\" alt=\"scaled_dot_product_attention\">\n",
        "\n",
        "<a name='3'></a>\n",
        "\n",
        "\n",
        "As the authors of the Transformers paper state, \"Attention is All You Need\".\n",
        "\n",
        "<img src=\"self-attention.png\" alt=\"Encoder\" width=\"600\"/>\n",
        "<caption><center><font color='purple'><b>Figure 1: Self-Attention calculation visualization</font></center></caption>\n",
        "    \n",
        "The use of self-attention paired with traditional convolutional networks allows for the parallization which speeds up training. You will implement **scaled dot product attention** which takes in a query, key, value, and a mask as inputs to returns rich, attention-based vector representations of the words in your sequence. This type of self-attention can be mathematically expressed as:\n",
        "$$\n",
        "\\text { Attention }(Q, K, V)=\\operatorname{softmax}\\left(\\frac{Q K^{T}}{\\sqrt{d_{k}}}+{M}\\right) V\\tag{4}\\\n",
        "$$\n",
        "\n",
        "* $Q$ is the matrix of queries\n",
        "* $K$ is the matrix of keys\n",
        "* $V$ is the matrix of values\n",
        "* $M$ is the optional mask you choose to apply\n",
        "* ${d_k}$ is the dimension of the keys, which is used to scale everything down so the softmax doesn't explode, notice that scaling a vector by a constant does not change the eventual softmax values.\n",
        "\n",
        "<font color='blue'> Notice that the vectors here are represented a **row** vectors, instead of column vectors.  </font>\n",
        "\n",
        "<a name='ex-3'></a>\n",
        "### Exercise 3 - scaled_dot_product_attention\n",
        "\n",
        "Implement the function `scaled_dot_product_attention()` to create attention-based representations.\n",
        "    \n",
        "**Important notes**:  Here we implemented a more general version of attention where the query sequence may be different from the target squence. Hence the length of query sequence may not be the same as the length of the target. However, if we use this function for self-attention, where the query and target are the same sequence (hence the term \"self\" in its name), then the length of query sequence shall match the length of the target.\n",
        "    \n",
        "**Reminder**: The mask is multiplied with -1e9 (close to negative infinity). This is done because the mask is summed with the scaled matrix multiplication of Q and K and is applied immediately before a softmax. The goal is to zero out these cells, and large negative inputs to softmax are near zero in the output.\n"
      ]
    },
    {
      "cell_type": "code",
      "execution_count": null,
      "metadata": {
        "id": "LazzUq3bJ5SH"
      },
      "outputs": [],
      "source": [
        "def scaled_dot_product_attention(q, k, v, mask):\n",
        "  \"\"\"Calculate the attention weights.\n",
        "  q, k, v must have matching leading dimensions.\n",
        "  k, v must have matching penultimate dimension, i.e.: seq_len_k = seq_len_v.\n",
        "  The mask has different shapes depending on its type(padding or look ahead)\n",
        "  but it must be broadcastable for addition.\n",
        "\n",
        "  Args:\n",
        "    q: query shape == (..., seq_len_q, depth)\n",
        "    k: key shape == (..., seq_len_k, depth)\n",
        "    v: value shape == (..., seq_len_v, depth_v)\n",
        "    mask: Float tensor with shape broadcastable\n",
        "          to (..., seq_len_q, seq_len_k). Defaults to None.\n",
        "\n",
        "  Returns:\n",
        "    output, attention_weights\n",
        "  \"\"\"\n",
        "\n",
        "  # Use tf.matmul to obtain unnomralized attention weights, remember to transpose K\n",
        "  matmul_qk = tf.matmul(q, k, transpose_b=True)     # (..., seq_len_q, seq_len_k)\n",
        "\n",
        "\n",
        "\n",
        "  # scale matmul_qk\n",
        "  dk = tf.cast(tf.shape(k)[-1], tf.float32)\n",
        "  scaled_attention_logits = matmul_qk / tf.math.sqrt(dk)\n",
        "\n",
        "  # add the mask to the scaled tensor.\n",
        "\n",
        "  # add (mask * -1e9)  to attention_logits\n",
        "  if mask is not None:\n",
        "    scaled_attention_logits += (mask * -1e9)\n",
        "\n",
        "\n",
        "  # softmax is normalized on the last axis (seq_len_k) so that the scores\n",
        "  # add up to 1.\n",
        "  attention_weights = tf.nn.softmax(scaled_attention_logits, axis=-1)  # (..., seq_len_q, seq_len_k)\n",
        "\n",
        "  output = tf.matmul(attention_weights, v)  # (..., seq_len_q, depth_v)\n",
        "\n",
        "  return output, attention_weights"
      ]
    },
    {
      "cell_type": "code",
      "execution_count": null,
      "metadata": {
        "colab": {
          "base_uri": "https://localhost:8080/"
        },
        "id": "_5ATjudLSsVs",
        "outputId": "787f7761-2427-4c0e-98fd-cd07cfc82fcb"
      },
      "outputs": [
        {
          "output_type": "stream",
          "name": "stdout",
          "text": [
            "\u001b[92mAll tests passed!\n"
          ]
        }
      ],
      "source": [
        "def scaled_dot_product_attention_test(target):\n",
        "    q = np.array([[1, 0, 1, 1], [0, 1, 1, 1], [1, 0, 0, 1]]).astype(np.float32)\n",
        "    k = np.array([[1, 1, 0, 1], [1, 0, 1, 1 ], [0, 1, 1, 0], [0, 0, 0, 1]]).astype(np.float32)\n",
        "    v = np.array([[0, 0], [1, 0], [1, 0], [1, 1]]).astype(np.float32)\n",
        "\n",
        "    attention, weights = target(q, k, v, None)\n",
        "    assert tf.is_tensor(weights), \"Weights must be a tensor\"\n",
        "    assert tuple(tf.shape(weights).numpy()) == (q.shape[0], k.shape[1]), f\"Wrong shape. We expected ({q.shape[0]}, {k.shape[1]})\"\n",
        "    assert np.allclose(weights, [[0.2589478,  0.42693272, 0.15705977, 0.15705977],\n",
        "                                   [0.2772748,  0.2772748,  0.2772748,  0.16817567],\n",
        "                                   [0.33620113, 0.33620113, 0.12368149, 0.2039163 ]])\n",
        "\n",
        "    assert tf.is_tensor(attention), \"Output must be a tensor\"\n",
        "    assert tuple(tf.shape(attention).numpy()) == (q.shape[0], v.shape[1]), f\"Wrong shape. We expected ({q.shape[0]}, {v.shape[1]})\"\n",
        "    assert np.allclose(attention, [[0.74105227, 0.15705977],\n",
        "                                   [0.7227253,  0.16817567],\n",
        "                                   [0.6637989,  0.2039163 ]])\n",
        "\n",
        "    mask = np.array([[0, 0, 1, 0], [0, 0, 1, 0], [0, 0, 1, 0]])\n",
        "    attention, weights = target(q, k, v, mask)\n",
        "\n",
        "    assert np.allclose(weights, [[0.30719590187072754, 0.5064803957939148, 0.0, 0.18632373213768005],\n",
        "                                 [0.3836517333984375, 0.3836517333984375, 0.0, 0.2326965481042862],\n",
        "                                 [0.3836517333984375, 0.3836517333984375, 0.0, 0.2326965481042862]]), \"Wrong masked weights\"\n",
        "    assert np.allclose(attention, [[0.6928040981292725, 0.18632373213768005],\n",
        "                                   [0.6163482666015625, 0.2326965481042862],\n",
        "                                   [0.6163482666015625, 0.2326965481042862]]), \"Wrong masked attention\"\n",
        "\n",
        "    print(\"\\033[92mAll tests passed!\")\n",
        "\n",
        "scaled_dot_product_attention_test(scaled_dot_product_attention)"
      ]
    },
    {
      "cell_type": "markdown",
      "metadata": {
        "id": "FiqETnhCkoXh"
      },
      "source": [
        "As the softmax normalization is done on K, its values decide the amount of importance given to Q.\n",
        "\n",
        "The output represents the multiplication of the attention weights and the V (value) vector. This ensures that the words you want to focus on are kept as-is and the irrelevant words are flushed out."
      ]
    },
    {
      "cell_type": "code",
      "execution_count": null,
      "metadata": {
        "id": "n90YjClyInFy"
      },
      "outputs": [],
      "source": [
        "def print_out(q, k, v):\n",
        "  temp_out, temp_attn = scaled_dot_product_attention(\n",
        "      q, k, v, None)\n",
        "  print ('Attention weights are:')\n",
        "  print (temp_attn)\n",
        "  print ('Output is:')\n",
        "  print (temp_out)"
      ]
    },
    {
      "cell_type": "code",
      "execution_count": null,
      "metadata": {
        "colab": {
          "base_uri": "https://localhost:8080/"
        },
        "id": "yAzUAf2DPlNt",
        "outputId": "aba0f2b8-7866-4762-bed9-1a860ee8465e"
      },
      "outputs": [
        {
          "output_type": "stream",
          "name": "stdout",
          "text": [
            "Attention weights are:\n",
            "tf.Tensor([[0. 1. 0. 0.]], shape=(1, 4), dtype=float32)\n",
            "Output is:\n",
            "tf.Tensor([[10.  0.]], shape=(1, 2), dtype=float32)\n"
          ]
        }
      ],
      "source": [
        "np.set_printoptions(suppress=True)\n",
        "\n",
        "temp_k = tf.constant([[10,0,0],\n",
        "            [0,10,0],\n",
        "            [0,0,10],\n",
        "            [0,0,10]], dtype=tf.float32)  # (4, 3)\n",
        "\n",
        "temp_v = tf.constant([[   1,0],\n",
        "            [  10,0],\n",
        "            [ 100,5],\n",
        "            [1000,6]], dtype=tf.float32)  # (4, 2)\n",
        "\n",
        "# This `query` aligns with the second `key`,\n",
        "# so the second `value` is returned.\n",
        "temp_q = tf.constant([[0, 10, 0]], dtype=tf.float32)  # (1, 3)\n",
        "print_out(temp_q, temp_k, temp_v)"
      ]
    },
    {
      "cell_type": "code",
      "execution_count": null,
      "metadata": {
        "colab": {
          "base_uri": "https://localhost:8080/"
        },
        "id": "zg6k-fGhgXra",
        "outputId": "da3f2a7d-0418-492f-919b-d56b8c8aa617"
      },
      "outputs": [
        {
          "output_type": "stream",
          "name": "stdout",
          "text": [
            "Attention weights are:\n",
            "tf.Tensor([[0.  0.  0.5 0.5]], shape=(1, 4), dtype=float32)\n",
            "Output is:\n",
            "tf.Tensor([[550.    5.5]], shape=(1, 2), dtype=float32)\n"
          ]
        }
      ],
      "source": [
        "# This query aligns with a repeated key (third and fourth),\n",
        "# so all associated values get averaged.\n",
        "temp_q = tf.constant([[0, 0, 10]], dtype=tf.float32)  # (1, 3)\n",
        "print_out(temp_q, temp_k, temp_v)"
      ]
    },
    {
      "cell_type": "code",
      "execution_count": null,
      "metadata": {
        "colab": {
          "base_uri": "https://localhost:8080/"
        },
        "id": "UAq3YOzUgXhb",
        "outputId": "f9ff7350-e5e2-48a6-fd44-12e356ca33c1"
      },
      "outputs": [
        {
          "output_type": "stream",
          "name": "stdout",
          "text": [
            "Attention weights are:\n",
            "tf.Tensor([[0.5 0.5 0.  0. ]], shape=(1, 4), dtype=float32)\n",
            "Output is:\n",
            "tf.Tensor([[5.5 0. ]], shape=(1, 2), dtype=float32)\n"
          ]
        }
      ],
      "source": [
        "# This query aligns equally with the first and second key,\n",
        "# so their values get averaged.\n",
        "temp_q = tf.constant([[10, 10, 0]], dtype=tf.float32)  # (1, 3)\n",
        "print_out(temp_q, temp_k, temp_v)"
      ]
    },
    {
      "cell_type": "markdown",
      "metadata": {
        "id": "aOz-4_XIhaTP"
      },
      "source": [
        "Pass all the queries together."
      ]
    },
    {
      "cell_type": "code",
      "execution_count": null,
      "metadata": {
        "colab": {
          "base_uri": "https://localhost:8080/"
        },
        "id": "6dlU8Tm-hYrF",
        "outputId": "c294312f-ae79-43ca-bbed-e4ac13660973"
      },
      "outputs": [
        {
          "output_type": "stream",
          "name": "stdout",
          "text": [
            "Attention weights are:\n",
            "tf.Tensor(\n",
            "[[0.  0.  0.5 0.5]\n",
            " [0.  1.  0.  0. ]\n",
            " [0.5 0.5 0.  0. ]], shape=(3, 4), dtype=float32)\n",
            "Output is:\n",
            "tf.Tensor(\n",
            "[[550.    5.5]\n",
            " [ 10.    0. ]\n",
            " [  5.5   0. ]], shape=(3, 2), dtype=float32)\n"
          ]
        }
      ],
      "source": [
        "temp_q = tf.constant([[0, 0, 10], [0, 10, 0], [10, 10, 0]], dtype=tf.float32)  # (3, 3)\n",
        "print_out(temp_q, temp_k, temp_v)"
      ]
    },
    {
      "cell_type": "markdown",
      "metadata": {
        "id": "kmzGPEy64qmA"
      },
      "source": [
        "### 3.2 - Multi-head attention"
      ]
    },
    {
      "cell_type": "markdown",
      "metadata": {
        "id": "fz5BMC8Kaoqo"
      },
      "source": [
        "<img src=\"https://www.tensorflow.org/images/tutorials/transformer/multi_head_attention.png\" width=\"500\" alt=\"multi-head attention\">\n",
        "\n",
        "\n",
        "Multi-head attention consists of four parts:\n",
        "*    Linear layers and split into heads.\n",
        "*    Scaled dot-product attention.\n",
        "*    Concatenation of heads.\n",
        "*    Final linear layer."
      ]
    },
    {
      "cell_type": "markdown",
      "metadata": {
        "id": "JPmbr6F1C-v_"
      },
      "source": [
        "Each multi-head attention block gets three inputs; Q (query), K (key), V (value). These are put through linear (Dense) layers and split up into multiple heads.\n",
        "\n",
        "The `scaled_dot_product_attention` defined above is applied to each head (broadcasted for efficiency). An appropriate mask must be used in the attention step.  The attention output for each head is then concatenated (using `tf.transpose`, and `tf.reshape`) and put through a final `Dense` layer.\n",
        "\n",
        "Instead of one single attention head, Q, K, and V are split into multiple heads because it allows the model to jointly attend to information at different positions from different representational spaces. After the split each head has a reduced dimensionality, so the total computation cost is the same as a single head attention with full dimensionality.\n",
        "\n",
        "\n",
        "<img src=\"hydra.jpg\" alt=\"Encoder\" width=\"250\"/>\n",
        "<caption><center><font color='purple'><b>Figure 2: A live demo of Multi-Head Attention</font></center></caption>"
      ]
    },
    {
      "cell_type": "code",
      "execution_count": null,
      "metadata": {
        "id": "BSV3PPKsYecw"
      },
      "outputs": [],
      "source": [
        "class MultiHeadAttention(tf.keras.layers.Layer):\n",
        "  def __init__(self, d_model, num_heads):\n",
        "    super(MultiHeadAttention, self).__init__()\n",
        "    self.num_heads = num_heads   # number of heads\n",
        "    self.d_model = d_model\n",
        "\n",
        "    assert d_model % self.num_heads == 0   # d_model == length of key/query * num_heads\n",
        "\n",
        "    self.depth = d_model // self.num_heads # the depth is the length of the key and queries\n",
        "\n",
        "    self.wq = tf.keras.layers.Dense(d_model)\n",
        "    self.wk = tf.keras.layers.Dense(d_model)\n",
        "    # for simplicity, here the depth of v vector is set to be the same of depth of k and q, you can relax this constrait. The cost is one extra argument to pass\n",
        "    self.wv = tf.keras.layers.Dense(d_model)\n",
        "\n",
        "    self.dense = tf.keras.layers.Dense(d_model)\n",
        "\n",
        "  def split_heads(self, x, batch_size):\n",
        "    \"\"\"Split the last dimension into (num_heads, depth).\n",
        "    Transpose the result such that the shape is (batch_size, num_heads, seq_len, depth)\n",
        "    \"\"\"\n",
        "    x = tf.reshape(x, (batch_size, -1, self.num_heads, self.depth))\n",
        "    return tf.transpose(x, perm=[0, 2, 1, 3])\n",
        "\n",
        "  def call(self, v, k, q, mask):\n",
        "    batch_size = tf.shape(q)[0]\n",
        "\n",
        "    q = self.wq(q)  # (batch_size, seq_len, d_model)\n",
        "\n",
        "\n",
        "    k = self.wk(k)        # (batch_size, seq_len, d_model)\n",
        "    v = self.wv(v)        # (batch_size, seq_len, d_model)\n",
        "\n",
        "\n",
        "\n",
        "    q = self.split_heads(q, batch_size)  # (batch_size, num_heads, seq_len_q, depth)\n",
        "    k = self.split_heads(k, batch_size)  # (batch_size, num_heads, seq_len_k, depth)\n",
        "    v = self.split_heads(v, batch_size)  # (batch_size, num_heads, seq_len_v, depth)\n",
        "\n",
        "    # scaled_attention.shape == (batch_size, num_heads, seq_len_q, depth)\n",
        "    # attention_weights.shape == (batch_size, num_heads, seq_len_q, seq_len_k)\n",
        "\n",
        "    #  USE scaled_dot_product_attention FUNCTION TO OBTAIN ATTENTIONS AND ATTENTION WEIGHTS, DO NOT FORGET TO PASS MASK AS AN ARGUMENT\n",
        "    scaled_attention, attention_weights = scaled_dot_product_attention(q, k, v, mask)\n",
        "\n",
        "\n",
        "    scaled_attention = tf.transpose(scaled_attention, perm=[0, 2, 1, 3])  # (batch_size, seq_len_q, num_heads, depth)\n",
        "\n",
        "    concat_attention = tf.reshape(scaled_attention,\n",
        "                                  (batch_size, -1, self.d_model))  # (batch_size, seq_len_q, d_model), here we concatenate the attention_weighted output from multiple attentions\n",
        "\n",
        "    output = self.dense(concat_attention)  # (batch_size, seq_len_q, hidden)\n",
        "\n",
        "    return output, attention_weights"
      ]
    },
    {
      "cell_type": "markdown",
      "metadata": {
        "id": "0D8FJue5lDyZ"
      },
      "source": [
        "Create a `MultiHeadAttention` layer to try out. At each location in the sequence, `y`, the `MultiHeadAttention` runs all 8 attention heads across all other locations in the sequence, returning a new vector of the same length at each location."
      ]
    },
    {
      "cell_type": "code",
      "execution_count": null,
      "metadata": {
        "colab": {
          "base_uri": "https://localhost:8080/"
        },
        "id": "Hu94p-_-2_BX",
        "outputId": "b066d9c3-daf3-4fd5-8f3e-143ca3a725de"
      },
      "outputs": [
        {
          "output_type": "execute_result",
          "data": {
            "text/plain": [
              "(TensorShape([1, 60, 512]), TensorShape([1, 8, 60, 60]))"
            ]
          },
          "metadata": {},
          "execution_count": 30
        }
      ],
      "source": [
        "temp_mha = MultiHeadAttention(d_model=512, num_heads=8)\n",
        "y = tf.random.uniform((1, 60, 512))  # (batch_size, encoder_sequence, input length)\n",
        "out, attn = temp_mha(y, k=y, q=y, mask=None)\n",
        "out.shape, attn.shape"
      ]
    },
    {
      "cell_type": "markdown",
      "metadata": {
        "id": "RdDqGayx67vv"
      },
      "source": [
        "### 3.3 - Point wise feed forward network"
      ]
    },
    {
      "cell_type": "markdown",
      "metadata": {
        "id": "gBqzJXGfHK3X"
      },
      "source": [
        "Point wise feed forward network consists of two fully-connected layers with a ReLU activation in between."
      ]
    },
    {
      "cell_type": "code",
      "execution_count": null,
      "metadata": {
        "id": "ET7xLt0yCT6Z"
      },
      "outputs": [],
      "source": [
        "def point_wise_feed_forward_network(d_model, dff):\n",
        "  return tf.keras.Sequential([\n",
        "      tf.keras.layers.Dense(dff, activation='relu'),  # (batch_size, seq_len, dff)\n",
        "      tf.keras.layers.Dense(d_model)  # (batch_size, seq_len, d_model)\n",
        "  ])"
      ]
    },
    {
      "cell_type": "code",
      "execution_count": null,
      "metadata": {
        "colab": {
          "base_uri": "https://localhost:8080/"
        },
        "id": "mytb1lPyOHLB",
        "outputId": "d436d4e4-65cf-40af-b402-f9567570c54d"
      },
      "outputs": [
        {
          "output_type": "execute_result",
          "data": {
            "text/plain": [
              "TensorShape([64, 50, 512])"
            ]
          },
          "metadata": {},
          "execution_count": 32
        }
      ],
      "source": [
        "sample_ffn = point_wise_feed_forward_network(512, 2048)\n",
        "sample_ffn(tf.random.uniform((64, 50, 512))).shape"
      ]
    },
    {
      "cell_type": "markdown",
      "metadata": {
        "id": "7e7hKcxn6-zd"
      },
      "source": [
        "## 4 - Encoder and decoder"
      ]
    },
    {
      "cell_type": "markdown",
      "metadata": {
        "id": "yScbC0MUH8dS"
      },
      "source": [
        "<img src=\"https://www.tensorflow.org/images/tutorials/transformer/transformer.png\" width=\"600\" alt=\"transformer\">"
      ]
    },
    {
      "cell_type": "markdown",
      "metadata": {
        "id": "MfYJG-Kvgwy2"
      },
      "source": [
        "The transformer model follows the same general pattern as a standard [sequence to sequence with attention model](nmt_with_attention.ipynb).\n",
        "\n",
        "* The input sentence is passed through `N` encoder layers that generates an output for each word/token in the sequence.\n",
        "* The decoder attends on the encoder's output and its own input (self-attention) to predict the next word."
      ]
    },
    {
      "cell_type": "markdown",
      "metadata": {
        "id": "QFv-FNYUmvpn"
      },
      "source": [
        "### 4.1 - Encoder layer\n",
        "\n",
        "\n",
        "The Transformer Encoder layer pairs self-attention and convolutional neural network style of processing to improve the speed of training and passes K and V matrices to the Decoder, which you'll build later in the assignment. In this section, you will implement the Encoder by pairing multi-head attention and a feed forward neural network (Figure 2a).\n",
        "<img src=\"encoder_layer.png\" alt=\"Encoder\" width=\"250\"/>\n",
        "<caption><center><font color='purple'><b>Figure 3a: Transformer encoder layer</font></center></caption>\n",
        "\n",
        "* Both `MultiHeadAttention` and `FeedForward` layers have been defined previously, as in session 3.\n",
        "\n",
        "    \n",
        "Your input sentence first passes through a *multi-head attention layer*, where the encoder looks at other words in the input sentence as it encodes a specific word. The outputs of the multi-head attention layer are then fed to a *feed forward neural network*. The exact same feed forward network is independently applied to each position.\n",
        "\n",
        "The output of each sublayer is `LayerNorm(x + Sublayer(x))`. The normalization is done on the `d_model` (last) axis. There are N encoder layers in the transformer."
      ]
    },
    {
      "cell_type": "code",
      "execution_count": null,
      "metadata": {
        "id": "ncyS-Ms3i2x_"
      },
      "outputs": [],
      "source": [
        "class EncoderLayer(tf.keras.layers.Layer):\n",
        "  def __init__(self, d_model, num_heads, dff, rate=0.1):\n",
        "    super().__init__()\n",
        "\n",
        "    self.mha = MultiHeadAttention(d_model, num_heads)\n",
        "    self.ffn = point_wise_feed_forward_network(d_model, dff)\n",
        "\n",
        "    self.layernorm1 = tf.keras.layers.LayerNormalization(epsilon=1e-6)\n",
        "    self.layernorm2 = tf.keras.layers.LayerNormalization(epsilon=1e-6)\n",
        "\n",
        "    self.dropout1 = tf.keras.layers.Dropout(rate)\n",
        "    self.dropout2 = tf.keras.layers.Dropout(rate)\n",
        "\n",
        "  def call(self, x, training, mask):\n",
        "\n",
        "\n",
        "    attn_output, _ = self.mha(x, x, x, mask)             # INPUT x,x, AND x, OUTPUT SHAPE (batch_size, input_seq_len, d_model)\n",
        "\n",
        "    attn_output = self.dropout1(attn_output, training=training)  # the dropout layer behaves differently during training or inference stage ,hence you need to pass teh training argument\n",
        "    out1 = self.layernorm1(x + attn_output)  # (batch_size, input_seq_len, d_model), this is the residual unit, or skip connection unit\n",
        "\n",
        "    ffn_output = self.ffn(out1)  # (batch_size, input_seq_len, d_model)\n",
        "    # ADD DROPOUT, RESIDUAL UNIT AND LAYERNORM2\n",
        "    ffn_output = self.dropout2(ffn_output, training=training)\n",
        "\n",
        "    out2 = self.layernorm2(out1 + ffn_output)              # (batch_size, input_seq_len, d_model)\n",
        "\n",
        "    return out2"
      ]
    },
    {
      "cell_type": "code",
      "execution_count": null,
      "metadata": {
        "colab": {
          "base_uri": "https://localhost:8080/"
        },
        "id": "AzZRXdO0mI48",
        "outputId": "f83ebb31-eca5-48ee-b517-03e0f089207b"
      },
      "outputs": [
        {
          "output_type": "execute_result",
          "data": {
            "text/plain": [
              "TensorShape([64, 43, 512])"
            ]
          },
          "metadata": {},
          "execution_count": 34
        }
      ],
      "source": [
        "sample_encoder_layer = EncoderLayer(512, 8, 2048)\n",
        "\n",
        "sample_encoder_layer_output = sample_encoder_layer(\n",
        "    tf.random.uniform((64, 43, 512)), training = False, mask = None) # input dimension has to be the same as hidden dimension\n",
        "\n",
        "sample_encoder_layer_output.shape  # (batch_size, input_seq_len, d_model)"
      ]
    },
    {
      "cell_type": "markdown",
      "metadata": {
        "id": "6LO_48Owmx_o"
      },
      "source": [
        "### 4.2 - Decoder layer\n",
        "\n",
        "The Decoder layer takes the K and V matrices generated by the Encoder and in computes the second multi-head attention layer with the Q matrix from the output (Figure 3a).\n",
        "\n",
        "<img src=\"decoder_layer.png\" alt=\"Encoder\" width=\"250\"/>\n",
        "<caption><center><font color='purple'><b>Figure 3b: Transformer Decoder layer</font></center></caption>\n",
        "\n",
        "\n",
        "\n",
        "Each decoder layer consists of sublayers:\n",
        "\n",
        "1.   Masked multi-head attention (with look ahead mask and padding mask)\n",
        "2.   Multi-head attention (with padding mask). V (value) and K (key) receive the *encoder output* as inputs. Q (query) receives the *output from the masked multi-head attention sublayer.*\n",
        "3.   Point wise feed forward networks\n",
        "\n",
        "Each of these sublayers has a residual connection around it followed by a layer normalization. The output of each sublayer is `LayerNorm(x + Sublayer(x))`. The normalization is done on the `d_model` (last) axis.\n",
        "\n",
        "There are N decoder layers in the transformer.\n",
        "\n",
        "As Q receives the output from decoder's first attention block, and K receives the encoder output, the attention weights represent the importance given to the decoder's input based on the encoder's output. In other words, the decoder predicts the next word by looking at the encoder output and self-attending to its own output. See the demonstration above in the scaled dot product attention section."
      ]
    },
    {
      "cell_type": "code",
      "execution_count": null,
      "metadata": {
        "id": "9SoX0-vd1hue"
      },
      "outputs": [],
      "source": [
        "class DecoderLayer(tf.keras.layers.Layer):\n",
        "  def __init__(self, d_model, num_heads, dff, rate=0.1):\n",
        "    super().__init__()\n",
        "\n",
        "    self.mha1 = MultiHeadAttention(d_model, num_heads)\n",
        "    self.mha2 = MultiHeadAttention(d_model, num_heads)\n",
        "\n",
        "    self.ffn = point_wise_feed_forward_network(d_model, dff)\n",
        "\n",
        "    self.layernorm1 = tf.keras.layers.LayerNormalization(epsilon=1e-6)\n",
        "    self.layernorm2 = tf.keras.layers.LayerNormalization(epsilon=1e-6)\n",
        "    self.layernorm3 = tf.keras.layers.LayerNormalization(epsilon=1e-6)\n",
        "\n",
        "    self.dropout1 = tf.keras.layers.Dropout(rate)\n",
        "    self.dropout2 = tf.keras.layers.Dropout(rate)\n",
        "    self.dropout3 = tf.keras.layers.Dropout(rate)\n",
        "\n",
        "\n",
        "  def call(self, x, enc_output, training,\n",
        "           look_ahead_mask, padding_mask):\n",
        "    # enc_output.shape == (batch_size, input_seq_len, hidden)\n",
        "    #  ATTENTION, DROPOUT, RESIDUAL AND LAYERNORM1\n",
        "    attn1, attn_weights_block1 = self.mha1(q = x, k = x, v = x, mask = look_ahead_mask)      # (batch_size, target_seq_len, d_model)\n",
        "    attn1 = self.dropout1(attn1, training=training)\n",
        "    out1 = self.layernorm1(attn1 + x)\n",
        "\n",
        "\n",
        "\n",
        "    # ATTENTION, DROPOUT, RESIDUAL AND LAYERNORM1\n",
        "    attn2, attn_weights_block2 = self.mha2(q = out1, k = enc_output, v = enc_output, mask = padding_mask)      #  v, k, q, output is of shape (batch_size, target_seq_len, d_model)\n",
        "    attn2 = self.dropout2(attn2, training=training)\n",
        "    out2 = self.layernorm2(attn2 + out1)\n",
        "\n",
        "\n",
        "    ffn_output = self.ffn(out2)  # (batch_size, target_seq_len, d_model)\n",
        "    ffn_output = self.dropout3(ffn_output, training=training)\n",
        "    out3 = self.layernorm3(ffn_output + out2)  # (batch_size, target_seq_len, d_model)\n",
        "\n",
        "    return out3, attn_weights_block1, attn_weights_block2"
      ]
    },
    {
      "cell_type": "code",
      "execution_count": null,
      "metadata": {
        "colab": {
          "base_uri": "https://localhost:8080/"
        },
        "id": "Ne2Bqx8k71l0",
        "outputId": "eeec6715-6836-4055-b198-b089acc3dd43"
      },
      "outputs": [
        {
          "output_type": "execute_result",
          "data": {
            "text/plain": [
              "TensorShape([64, 50, 512])"
            ]
          },
          "metadata": {},
          "execution_count": 36
        }
      ],
      "source": [
        "sample_decoder_layer = DecoderLayer(512, 8, 2048)\n",
        "\n",
        "sample_decoder_layer_output, _, _ = sample_decoder_layer(\n",
        "    tf.random.uniform((64, 50, 512)),\n",
        "    sample_encoder_layer_output,\n",
        "    training=False,\n",
        "    look_ahead_mask=None,\n",
        "    padding_mask=None) # decoder input dim == d_model dimension, you can change the residual unit yourself if you do not like this constraint\n",
        "\n",
        "sample_decoder_layer_output.shape"
      ]
    },
    {
      "cell_type": "markdown",
      "metadata": {
        "id": "SE1H51Ajm0q1"
      },
      "source": [
        "### 4.3 - Full Encoder\n",
        "\n",
        "The `Encoder` consists of:\n",
        "1.   Input Embedding\n",
        "2.   Positional Encoding\n",
        "3.   N encoder layers, will be passed as the `num_layers` argument\n",
        "\n",
        "The input is put through an embedding which is summed with the positional encoding. The output of this summation is the input to the encoder layers. The output of the encoder is the input to the decoder."
      ]
    },
    {
      "cell_type": "code",
      "execution_count": null,
      "metadata": {
        "id": "jpEox7gJ8FCI"
      },
      "outputs": [],
      "source": [
        "class Encoder(tf.keras.layers.Layer):\n",
        "  def __init__(self, num_layers, d_model, num_heads, dff, input_vocab_size,\n",
        "               rate=0.1):\n",
        "    super().__init__()\n",
        "\n",
        "    self.d_model = d_model\n",
        "    self.num_layers = num_layers\n",
        "\n",
        "    self.embedding = tf.keras.layers.Embedding(input_vocab_size, d_model)\n",
        "    self.pos_encoding = positional_encoding(input_vocab_size, self.d_model)\n",
        "\n",
        "    # ADD num_layers Encoderlayer, put in a list,\n",
        "    self.enc_layers = [EncoderLayer(d_model, num_heads, dff, rate)\n",
        "                       for _ in range(num_layers)]\n",
        "\n",
        "    self.dropout = tf.keras.layers.Dropout(rate)\n",
        "\n",
        "  def call(self, x, training, mask):\n",
        "\n",
        "    seq_len = tf.shape(x)[1]\n",
        "\n",
        "    # adding embedding and position encoding.\n",
        "    x = self.embedding(x)  # (batch_size, input_seq_len, d_model)\n",
        "    x *= tf.math.sqrt(tf.cast(self.d_model, tf.float32))  # this line is to normalize the variance of embeddings so it does not explode\n",
        "    x += self.pos_encoding[:, :seq_len, :]\n",
        "    x = self.dropout(x, training=training)\n",
        "\n",
        "    for i in range(self.num_layers):\n",
        "      x = self.enc_layers[i](x, training=training, mask=mask)\n",
        "\n",
        "    return x  # (batch_size, input_seq_len, d_model)"
      ]
    },
    {
      "cell_type": "code",
      "execution_count": null,
      "metadata": {
        "colab": {
          "base_uri": "https://localhost:8080/"
        },
        "id": "8QG9nueFQKXx",
        "outputId": "2d599478-8fa4-4a56-a676-01969a776fdd"
      },
      "outputs": [
        {
          "output_type": "stream",
          "name": "stdout",
          "text": [
            "tf.Tensor(\n",
            "[[196  92 181 ...   5 104 171]\n",
            " [ 26  13  85 ...  63  85  39]\n",
            " [ 76  73 181 ... 140  97 185]\n",
            " ...\n",
            " [ 26 119 190 ...  10 130 120]\n",
            " [ 81 160  29 ...  62 145   2]\n",
            " [113 114 101 ...  76 104  73]], shape=(64, 62), dtype=int64)\n",
            "(64, 62, 512)\n"
          ]
        }
      ],
      "source": [
        "sample_encoder = Encoder(num_layers=2, d_model=512, num_heads=8,\n",
        "                         dff=2048, input_vocab_size=8500)\n",
        "temp_input = tf.random.uniform((64, 62), dtype=tf.int64, minval=0, maxval=200)\n",
        "print(temp_input)\n",
        "\n",
        "\n",
        "sample_encoder_output = sample_encoder(temp_input, training=False, mask=None)\n",
        "\n",
        "print (sample_encoder_output.shape)  # (batch_size, input_seq_len, d_model)"
      ]
    },
    {
      "cell_type": "markdown",
      "metadata": {
        "id": "p-uO6ls8m2O5"
      },
      "source": [
        "### 4.4 - Full Decoder\n",
        " The `Decoder` consists of:\n",
        "1.   Output Embedding\n",
        "2.   Positional Encoding\n",
        "3.   N decoder layers\n",
        "\n",
        "The target is put through an embedding which is summed with the positional encoding. The output of this summation is the input to the decoder layers. The output of the decoder is the input to the final linear layer."
      ]
    },
    {
      "cell_type": "code",
      "execution_count": null,
      "metadata": {
        "id": "d5_d5-PLQXwY"
      },
      "outputs": [],
      "source": [
        "class Decoder(tf.keras.layers.Layer):\n",
        "  def __init__(self, num_layers, d_model, num_heads, dff, target_vocab_size,\n",
        "                 rate=0.1):\n",
        "    super(Decoder, self).__init__()\n",
        "\n",
        "    self.d_model = d_model\n",
        "    self.num_layers = num_layers\n",
        "\n",
        "    self.embedding = tf.keras.layers.Embedding(target_vocab_size, d_model)\n",
        "    self.pos_encoding = positional_encoding(target_vocab_size, self.d_model)\n",
        "\n",
        "    # ADD num_layers OF DecoderLayer\n",
        "\n",
        "    self.dec_layers = [DecoderLayer(d_model, num_heads, dff, rate)   # add code here\n",
        "                       for _ in range(num_layers)]\n",
        "    #\n",
        "    self.dropout = tf.keras.layers.Dropout(rate)\n",
        "\n",
        "  def call(self, x, enc_output, training,\n",
        "           look_ahead_mask=None, padding_mask =None):\n",
        "\n",
        "    seq_len = tf.shape(x)[1]\n",
        "    attention_weights = {}\n",
        "\n",
        "    x = self.embedding(x)  # (batch_size, target_seq_len, hidden)\n",
        "    x *= tf.math.sqrt(tf.cast(self.d_model, tf.float32))\n",
        "\n",
        "    # ADD POS_ENCODING, FOLLOWED BY A DROPOUT LAYER\n",
        "    x += self.pos_encoding[:, :seq_len, :]   # postional encoding\n",
        "    x = self.dropout(x, training=training)   # dropout\n",
        "\n",
        "\n",
        "    for i in range(self.num_layers):\n",
        "\n",
        "      x, block1, block2 = self.dec_layers[i](x = x,\n",
        "                           enc_output = enc_output,\n",
        "                           training = training,\n",
        "                           look_ahead_mask = look_ahead_mask,\n",
        "                           padding_mask = padding_mask)\n",
        "\n",
        "\n",
        "\n",
        "      attention_weights['decoder_layer{}_block1'.format(i+1)] = block1\n",
        "      attention_weights['decoder_layer{}_block2'.format(i+1)] = block2\n",
        "\n",
        "    # x.shape == (batch_size, target_seq_len, d_model)\n",
        "    return x, attention_weights"
      ]
    },
    {
      "cell_type": "code",
      "execution_count": null,
      "metadata": {
        "colab": {
          "base_uri": "https://localhost:8080/"
        },
        "id": "a1jXoAMRZyvu",
        "outputId": "22a9d89b-80e7-43cc-fabb-dd4979e992a5"
      },
      "outputs": [
        {
          "output_type": "execute_result",
          "data": {
            "text/plain": [
              "(TensorShape([64, 26, 512]), TensorShape([64, 8, 26, 62]))"
            ]
          },
          "metadata": {},
          "execution_count": 40
        }
      ],
      "source": [
        "sample_decoder = Decoder(num_layers=2, d_model=512, num_heads=8,\n",
        "                         dff=2048, target_vocab_size=8000)\n",
        "temp_input = tf.random.uniform((64, 26), dtype=tf.int64, minval=0, maxval=200)\n",
        "\n",
        "output, attn = sample_decoder(temp_input,\n",
        "                              enc_output=sample_encoder_output,\n",
        "                              training=False,\n",
        "                              look_ahead_mask=None,\n",
        "                              padding_mask=None)\n",
        "\n",
        "output.shape, attn['decoder_layer2_block2'].shape"
      ]
    },
    {
      "cell_type": "markdown",
      "metadata": {
        "id": "y54xnJnuYgJ7"
      },
      "source": [
        "<a name='6'></a>\n",
        "## 6 - Transformer\n",
        "\n",
        "We are close! Now let's build a transformer.\n",
        "\n",
        "<img src=\"transformer.png\" alt=\"Transformer\" width=\"550\"/>\n",
        "<caption><center><font color='purple'><b>Figure 4: Transformer</font></center></caption>\n",
        "    \n",
        "The flow of data through the Transformer Architecture is as follows:\n",
        "* First your input passes through an Encoder, which is just repeated Encoder layers that you implemented:\n",
        "    - embedding and positional encoding of your input\n",
        "    - multi-head attention on your input\n",
        "    - feed forward neural network to help detect features\n",
        "* Then the predicted output passes through a Decoder, consisting of the decoder layers that you implemented:\n",
        "    - embedding and positional encoding of the output\n",
        "    - multi-head attention on your generated output\n",
        "    - multi-head attention with the Q from the first multi-head attention layer and the K and V from the Encoder\n",
        "    - a feed forward neural network to help detect features\n",
        "* Finally, after the Nth Decoder layer, one dense layers and a softmax are applied to generate prediction for the next output in your sequence.\n"
      ]
    },
    {
      "cell_type": "code",
      "execution_count": null,
      "metadata": {
        "id": "PED3bIpOYkBu"
      },
      "outputs": [],
      "source": [
        "class Transformer(tf.keras.Model):\n",
        "  def __init__(self, num_layers, d_model, num_heads, dff, input_vocab_size,\n",
        "               target_vocab_size, rate=0.1):\n",
        "    super(Transformer, self).__init__()\n",
        "\n",
        "    self.encoder = Encoder(num_layers, d_model, num_heads, dff,\n",
        "                           input_vocab_size, rate)\n",
        "\n",
        "    self.decoder = Decoder(num_layers, d_model, num_heads, dff,\n",
        "                           target_vocab_size, rate)\n",
        "\n",
        "    self.final_layer = tf.keras.layers.Dense(target_vocab_size)\n",
        "\n",
        "  def call(self, inp, tar, training, enc_padding_mask,\n",
        "           look_ahead_mask, dec_padding_mask):\n",
        "\n",
        "\n",
        "    enc_output = self.encoder(inp, training=training, mask=enc_padding_mask)  # (batch_size, inp_seq_len, d_model)\n",
        "\n",
        "    # dec_output.shape == (batch_size, tar_seq_len, d_model)\n",
        "\n",
        "    dec_output, attention_weights = self.decoder(\n",
        "            tar,\n",
        "            enc_output,\n",
        "            training=training,\n",
        "            look_ahead_mask=look_ahead_mask,\n",
        "            padding_mask=dec_padding_mask\n",
        "        )\n",
        "\n",
        "\n",
        "\n",
        "    final_output = self.final_layer(dec_output)  # (batch_size, tar_seq_len, target_vocab_size)\n",
        "\n",
        "    return final_output, attention_weights"
      ]
    },
    {
      "cell_type": "code",
      "execution_count": null,
      "metadata": {
        "colab": {
          "base_uri": "https://localhost:8080/"
        },
        "id": "tJ4fbQcIkHW1",
        "outputId": "cd79eeb9-af03-40f4-8633-e776978563e6"
      },
      "outputs": [
        {
          "output_type": "execute_result",
          "data": {
            "text/plain": [
              "TensorShape([64, 26, 8000])"
            ]
          },
          "metadata": {},
          "execution_count": 42
        }
      ],
      "source": [
        "sample_transformer = Transformer(\n",
        "    num_layers=2, d_model=512, num_heads=8, dff=2048,\n",
        "    input_vocab_size=8500, target_vocab_size=8000)\n",
        "\n",
        "temp_input = tf.random.uniform((64, 62))\n",
        "temp_target = tf.random.uniform((64, 26))\n",
        "\n",
        "fn_out, _ = sample_transformer(temp_input, temp_target, training=False,\n",
        "                               enc_padding_mask=None,\n",
        "                               look_ahead_mask=None,\n",
        "                               dec_padding_mask=None)\n",
        "\n",
        "fn_out.shape  # (batch_size, tar_seq_len, target_vocab_size)"
      ]
    },
    {
      "cell_type": "markdown",
      "metadata": {
        "id": "wsINyf1VEQLC"
      },
      "source": [
        "## Set hyperparameters"
      ]
    },
    {
      "cell_type": "markdown",
      "metadata": {
        "id": "zVjWCxFNcgbt"
      },
      "source": [
        "To keep this example small and relatively fast, the values for *num_layers, d_model, and dff* have been reduced.\n",
        "\n",
        "The values used in the base model of transformer were; *num_layers=6*, *d_model = 512*, *dff = 2048*. See the [paper](https://arxiv.org/abs/1706.03762) for all the other versions of the transformer.\n",
        "\n",
        "Note: By changing the values below, you can get the model that achieved state of the art on many tasks."
      ]
    },
    {
      "cell_type": "code",
      "execution_count": null,
      "metadata": {
        "id": "lnJn5SLA2ahP"
      },
      "outputs": [],
      "source": [
        "num_layers = 4\n",
        "d_model = 128\n",
        "dff = 512\n",
        "num_heads = 8\n",
        "\n",
        "input_vocab_size = tokenizer_pt.vocab_size + 2\n",
        "target_vocab_size = tokenizer_en.vocab_size + 2\n",
        "dropout_rate = 0.1"
      ]
    },
    {
      "cell_type": "markdown",
      "metadata": {
        "id": "xYEGhEOtzn5W"
      },
      "source": [
        "## Optimizer"
      ]
    },
    {
      "cell_type": "markdown",
      "metadata": {
        "id": "GOmWW--yP3zx"
      },
      "source": [
        "Use the Adam optimizer with a custom learning rate scheduler according to the formula in the [paper](https://arxiv.org/abs/1706.03762).\n",
        "\n",
        "$$\\Large{lrate = d_{model}^{-0.5} * min(step{\\_}num^{-0.5}, step{\\_}num * warmup{\\_}steps^{-1.5})}$$\n"
      ]
    },
    {
      "cell_type": "code",
      "execution_count": null,
      "metadata": {
        "id": "iYQdOO1axwEI"
      },
      "outputs": [],
      "source": [
        "class CustomSchedule(tf.keras.optimizers.schedules.LearningRateSchedule):\n",
        "    def __init__(self, d_model, warmup_steps=4000):\n",
        "        super(CustomSchedule, self).__init__()\n",
        "\n",
        "        self.d_model = d_model\n",
        "        self.d_model = tf.cast(self.d_model, tf.float32)\n",
        "\n",
        "        self.warmup_steps = warmup_steps\n",
        "\n",
        "    def __call__(self, step):\n",
        "        step = tf.cast(step, tf.float32)\n",
        "        arg1 = tf.math.rsqrt(step)\n",
        "        arg2 = step * (self.warmup_steps ** -1.5)\n",
        "\n",
        "        return tf.math.rsqrt(self.d_model) * tf.math.minimum(arg1, arg2)"
      ]
    },
    {
      "cell_type": "code",
      "execution_count": null,
      "metadata": {
        "id": "7r4scdulztRx"
      },
      "outputs": [],
      "source": [
        "learning_rate = CustomSchedule(d_model)\n",
        "\n",
        "optimizer = tf.keras.optimizers.Adam(learning_rate, beta_1=0.9, beta_2=0.98, epsilon=1e-9)"
      ]
    },
    {
      "cell_type": "code",
      "execution_count": null,
      "metadata": {
        "colab": {
          "base_uri": "https://localhost:8080/",
          "height": 466
        },
        "id": "f33ZCgvHpPdG",
        "outputId": "670d6175-7f64-414f-859f-7697dfba0457"
      },
      "outputs": [
        {
          "output_type": "execute_result",
          "data": {
            "text/plain": [
              "Text(0.5, 0, 'Train Step')"
            ]
          },
          "metadata": {},
          "execution_count": 46
        },
        {
          "output_type": "display_data",
          "data": {
            "text/plain": [
              "<Figure size 640x480 with 1 Axes>"
            ],
            "image/png": "[encoded data removed]"
          },
          "metadata": {}
        }
      ],
      "source": [
        "temp_learning_rate_schedule = CustomSchedule(d_model)\n",
        "\n",
        "plt.plot(temp_learning_rate_schedule(tf.range(40000, dtype=tf.float32)))\n",
        "plt.ylabel(\"Learning Rate\")\n",
        "plt.xlabel(\"Train Step\")"
      ]
    },
    {
      "cell_type": "markdown",
      "metadata": {
        "id": "YgkDE7hzo8r5"
      },
      "source": [
        "## Loss and metrics"
      ]
    },
    {
      "cell_type": "markdown",
      "metadata": {
        "id": "oxGJtoDuYIHL"
      },
      "source": [
        "Since the target sequences are padded, it is important to apply a padding mask when calculating the loss."
      ]
    },
    {
      "cell_type": "code",
      "execution_count": null,
      "metadata": {
        "id": "MlhsJMm0TW_B"
      },
      "outputs": [],
      "source": [
        "loss_object = tf.keras.losses.SparseCategoricalCrossentropy(\n",
        "    from_logits=True, reduction='none')"
      ]
    },
    {
      "cell_type": "code",
      "execution_count": null,
      "metadata": {
        "id": "67oqVHiT0Eiu"
      },
      "outputs": [],
      "source": [
        "def loss_function(real, pred):\n",
        "  mask = tf.math.logical_not(tf.math.equal(real, 0)) # token 0 stands for padded token, will not consider it into the loss fuction\n",
        "  loss_ = loss_object(real, pred)\n",
        "\n",
        "  mask = tf.cast(mask, dtype=loss_.dtype) # make sure the same dtype\n",
        "  loss_ *= mask\n",
        "\n",
        "  return tf.reduce_sum(loss_)/tf.reduce_sum(mask) # this is modified reduce_mean, excluding padded 0 in the true labels."
      ]
    },
    {
      "cell_type": "code",
      "execution_count": null,
      "metadata": {
        "id": "phlyxMnm-Tpx"
      },
      "outputs": [],
      "source": [
        "train_loss = tf.keras.metrics.Mean(name='train_loss')\n",
        "train_accuracy = tf.keras.metrics.SparseCategoricalAccuracy(\n",
        "    name='train_accuracy')"
      ]
    },
    {
      "cell_type": "markdown",
      "metadata": {
        "id": "aeHumfr7zmMa"
      },
      "source": [
        "## Training and checkpointing"
      ]
    },
    {
      "cell_type": "code",
      "execution_count": null,
      "metadata": {
        "id": "UiysUa--4tOU"
      },
      "outputs": [],
      "source": [
        "transformer = Transformer(num_layers, d_model, num_heads, dff,\n",
        "                          input_vocab_size, target_vocab_size,\n",
        "                          rate=dropout_rate)"
      ]
    },
    {
      "cell_type": "code",
      "execution_count": null,
      "metadata": {
        "id": "ZOJUSB1T8GjM"
      },
      "outputs": [],
      "source": [
        "def create_masks(inp, tar):\n",
        "  # Encoder padding mask\n",
        "  enc_padding_mask = create_padding_mask(inp)\n",
        "\n",
        "  # Used in the 2nd attention block in the decoder.\n",
        "  # This padding mask is used to mask the encoder outputs. That is why it is created using input seq!\n",
        "  dec_padding_mask = create_padding_mask(inp)\n",
        "\n",
        "  # Used in the 1st attention block in the decoder.\n",
        "  # It is used to pad and mask future tokens in the input received by\n",
        "  # the decoder.\n",
        "\n",
        "  #  pass tar.shape[1] to creat look-ahead mask. pass tar to creat padding mask, use functions defined in Session 2\n",
        "  look_ahead_mask = create_look_ahead_mask(tf.shape(tar)[1])\n",
        "\n",
        "  dec_target_padding_mask = create_padding_mask(tar)\n",
        "\n",
        "  combined_mask = tf.maximum(dec_target_padding_mask, look_ahead_mask)\n",
        "  # we will pass combined mask in place of look ahead mask, why?\n",
        "#   combined_mask = None\n",
        "  return enc_padding_mask, combined_mask, dec_padding_mask"
      ]
    },
    {
      "cell_type": "markdown",
      "metadata": {
        "id": "Fzuf06YZp66w"
      },
      "source": [
        "Create the checkpoint path and the checkpoint manager. This will be used to save checkpoints every `n` epochs."
      ]
    },
    {
      "cell_type": "code",
      "execution_count": null,
      "metadata": {
        "id": "hNhuYfllndLZ"
      },
      "outputs": [],
      "source": [
        "checkpoint_path = \"./checkpoints/train\"\n",
        "\n",
        "ckpt = tf.train.Checkpoint(transformer=transformer,\n",
        "                           optimizer=optimizer)\n",
        "\n",
        "ckpt_manager = tf.train.CheckpointManager(ckpt, checkpoint_path, max_to_keep=5)\n",
        "\n",
        "# if a checkpoint exists, restore the latest checkpoint.\n",
        "if ckpt_manager.latest_checkpoint:\n",
        "  ckpt.restore(ckpt_manager.latest_checkpoint)\n",
        "  print ('Latest checkpoint restored!!')"
      ]
    },
    {
      "cell_type": "markdown",
      "metadata": {
        "id": "0Di_Yaa1gf9r"
      },
      "source": [
        "The target is divided into tar_inp and tar_real. tar_inp is passed as an input to the decoder. `tar_real` is that same input shifted by 1: At each location in `tar_input`, `tar_real` contains the  next token that should be predicted.\n",
        "\n",
        "For example, `sentence` = \"SOS A lion in the jungle is sleeping EOS\"\n",
        "\n",
        "`tar_inp` =  \"SOS A lion in the jungle is sleeping\"\n",
        "\n",
        "`tar_real` = \"A lion in the jungle is sleeping EOS\"\n",
        "\n",
        "The transformer is an auto-regressive model: it makes predictions one part at a time, and uses its output so far to decide what to do next.\n",
        "\n",
        "During training this example uses teacher-forcing (like in the [text generation tutorial](./text_generation.ipynb)). Teacher forcing is passing the true output to the next time step regardless of what the model predicts at the current time step.\n",
        "\n",
        "As the transformer predicts each word, *self-attention* allows it to look at the previous words in the input sequence to better predict the next word.\n",
        "\n",
        "To prevent the model from peeking at the expected output the model uses a look-ahead mask."
      ]
    },
    {
      "cell_type": "code",
      "execution_count": null,
      "metadata": {
        "id": "LKpoA6q1sJFj"
      },
      "outputs": [],
      "source": [
        "EPOCHS = 20 # you can modify this hyperparameter"
      ]
    },
    {
      "cell_type": "code",
      "execution_count": null,
      "metadata": {
        "id": "iJwmp9OE29oj"
      },
      "outputs": [],
      "source": [
        "# The @tf.function trace-compiles train_step into a TF graph for faster\n",
        "# execution. The function specializes to the precise shape of the argument\n",
        "# tensors. To avoid re-tracing due to the variable sequence lengths or variable\n",
        "# batch sizes (the last batch is smaller), use input_signature to specify\n",
        "# more generic shapes.\n",
        "\n",
        "train_step_signature = [\n",
        "    tf.TensorSpec(shape=(None, None), dtype=tf.int64),\n",
        "    tf.TensorSpec(shape=(None, None), dtype=tf.int64),\n",
        "]\n",
        "\n",
        "@tf.function(input_signature=train_step_signature)\n",
        "def train_step(inp, tar):\n",
        "    tar_inp = tar[:, :-1]\n",
        "    tar_real = tar[:, 1:]\n",
        "    enc_padding_mask, combined_mask, dec_padding_mask = create_masks(inp, tar_inp)\n",
        "\n",
        "    with tf.GradientTape() as tape:\n",
        "        predictions, _ = transformer(\n",
        "            inp, tar_inp, training=True,\n",
        "            enc_padding_mask=enc_padding_mask,\n",
        "            look_ahead_mask=combined_mask,\n",
        "            dec_padding_mask=dec_padding_mask\n",
        "        )\n",
        "        loss = loss_function(tar_real, predictions)\n",
        "\n",
        "\n",
        "    gradients = tape.gradient(loss, transformer.trainable_variables)\n",
        "    optimizer.apply_gradients(zip(gradients, transformer.trainable_variables))\n",
        "\n",
        "    train_loss(loss)\n",
        "    train_accuracy(tar_real, predictions)"
      ]
    },
    {
      "cell_type": "markdown",
      "metadata": {
        "id": "qM2PDWGDJ_8V"
      },
      "source": [
        "Portuguese is used as the input language and English is the target language."
      ]
    },
    {
      "cell_type": "code",
      "execution_count": null,
      "metadata": {
        "colab": {
          "base_uri": "https://localhost:8080/"
        },
        "id": "bbvmaKNiznHZ",
        "outputId": "570792e5-9273-4546-8a04-aad9ac1ff378"
      },
      "outputs": [
        {
          "output_type": "stream",
          "name": "stdout",
          "text": [
            "Epoch 1 Batch 0 Loss 9.0085 Accuracy 0.0000\n",
            "Epoch 1 Batch 50 Loss 8.9368 Accuracy 0.0105\n",
            "Epoch 1 Batch 100 Loss 8.8244 Accuracy 0.0261\n",
            "Epoch 1 Batch 150 Loss 8.7119 Accuracy 0.0317\n",
            "Epoch 1 Batch 200 Loss 8.5791 Accuracy 0.0343\n",
            "Epoch 1 Batch 250 Loss 8.4168 Accuracy 0.0370\n",
            "Epoch 1 Batch 300 Loss 8.2323 Accuracy 0.0432\n",
            "Epoch 1 Batch 350 Loss 8.0398 Accuracy 0.0482\n",
            "Epoch 1 Batch 400 Loss 7.8487 Accuracy 0.0519\n",
            "Epoch 1 Batch 450 Loss 7.6740 Accuracy 0.0551\n",
            "Epoch 1 Batch 500 Loss 7.5159 Accuracy 0.0592\n",
            "Epoch 1 Loss 7.4395 Accuracy 0.0615\n",
            "Time taken for 1 epoch: 116.02665328979492 secs\n",
            "\n",
            "Epoch 2 Batch 0 Loss 6.0357 Accuracy 0.0983\n",
            "Epoch 2 Batch 50 Loss 5.8023 Accuracy 0.1146\n",
            "Epoch 2 Batch 100 Loss 5.7083 Accuracy 0.1189\n",
            "Epoch 2 Batch 150 Loss 5.6197 Accuracy 0.1234\n",
            "Epoch 2 Batch 200 Loss 5.5463 Accuracy 0.1275\n",
            "Epoch 2 Batch 250 Loss 5.4753 Accuracy 0.1312\n",
            "Epoch 2 Batch 300 Loss 5.4069 Accuracy 0.1355\n",
            "Epoch 2 Batch 350 Loss 5.3451 Accuracy 0.1392\n",
            "Epoch 2 Batch 400 Loss 5.2892 Accuracy 0.1426\n",
            "Epoch 2 Batch 450 Loss 5.2398 Accuracy 0.1456\n",
            "Epoch 2 Batch 500 Loss 5.1937 Accuracy 0.1484\n",
            "Epoch 2 Loss 5.1718 Accuracy 0.1497\n",
            "Time taken for 1 epoch: 32.63800239562988 secs\n",
            "\n",
            "Epoch 3 Batch 0 Loss 4.6574 Accuracy 0.1771\n",
            "Epoch 3 Batch 50 Loss 4.6329 Accuracy 0.1793\n",
            "Epoch 3 Batch 100 Loss 4.5933 Accuracy 0.1810\n",
            "Epoch 3 Batch 150 Loss 4.5785 Accuracy 0.1817\n",
            "Epoch 3 Batch 200 Loss 4.5597 Accuracy 0.1833\n",
            "Epoch 3 Batch 250 Loss 4.5381 Accuracy 0.1848\n",
            "Epoch 3 Batch 300 Loss 4.5247 Accuracy 0.1861\n",
            "Epoch 3 Batch 350 Loss 4.5118 Accuracy 0.1869\n",
            "Epoch 3 Batch 400 Loss 4.4969 Accuracy 0.1879\n",
            "Epoch 3 Batch 450 Loss 4.4827 Accuracy 0.1889\n",
            "Epoch 3 Batch 500 Loss 4.4701 Accuracy 0.1898\n",
            "Epoch 3 Loss 4.4628 Accuracy 0.1902\n",
            "Time taken for 1 epoch: 39.33648920059204 secs\n",
            "\n",
            "Epoch 4 Batch 0 Loss 4.2466 Accuracy 0.1973\n",
            "Epoch 4 Batch 50 Loss 4.1899 Accuracy 0.2053\n",
            "Epoch 4 Batch 100 Loss 4.1918 Accuracy 0.2047\n",
            "Epoch 4 Batch 150 Loss 4.1795 Accuracy 0.2050\n",
            "Epoch 4 Batch 200 Loss 4.1758 Accuracy 0.2056\n",
            "Epoch 4 Batch 250 Loss 4.1633 Accuracy 0.2061\n",
            "Epoch 4 Batch 300 Loss 4.1552 Accuracy 0.2065\n",
            "Epoch 4 Batch 350 Loss 4.1460 Accuracy 0.2078\n",
            "Epoch 4 Batch 400 Loss 4.1347 Accuracy 0.2083\n",
            "Epoch 4 Batch 450 Loss 4.1268 Accuracy 0.2091\n",
            "Epoch 4 Batch 500 Loss 4.1196 Accuracy 0.2096\n",
            "Epoch 4 Loss 4.1153 Accuracy 0.2101\n",
            "Time taken for 1 epoch: 32.68797183036804 secs\n",
            "\n",
            "Epoch 5 Batch 0 Loss 3.7890 Accuracy 0.2174\n",
            "Epoch 5 Batch 50 Loss 3.8633 Accuracy 0.2237\n",
            "Epoch 5 Batch 100 Loss 3.8534 Accuracy 0.2246\n",
            "Epoch 5 Batch 150 Loss 3.8383 Accuracy 0.2257\n",
            "Epoch 5 Batch 200 Loss 3.8396 Accuracy 0.2267\n",
            "Epoch 5 Batch 250 Loss 3.8265 Accuracy 0.2280\n",
            "Epoch 5 Batch 300 Loss 3.8162 Accuracy 0.2286\n",
            "Epoch 5 Batch 350 Loss 3.8052 Accuracy 0.2294\n",
            "Epoch 5 Batch 400 Loss 3.7942 Accuracy 0.2306\n",
            "Epoch 5 Batch 450 Loss 3.7850 Accuracy 0.2315\n",
            "Epoch 5 Batch 500 Loss 3.7755 Accuracy 0.2328\n",
            "Saving checkpoint for epoch 5 at ./checkpoints/train/ckpt-1\n",
            "Epoch 5 Loss 3.7692 Accuracy 0.2335\n",
            "Time taken for 1 epoch: 34.477859020233154 secs\n",
            "\n",
            "Epoch 6 Batch 0 Loss 3.3848 Accuracy 0.2448\n",
            "Epoch 6 Batch 50 Loss 3.4519 Accuracy 0.2574\n",
            "Epoch 6 Batch 100 Loss 3.4728 Accuracy 0.2557\n",
            "Epoch 6 Batch 150 Loss 3.4808 Accuracy 0.2539\n",
            "Epoch 6 Batch 200 Loss 3.4660 Accuracy 0.2549\n",
            "Epoch 6 Batch 250 Loss 3.4521 Accuracy 0.2557\n",
            "Epoch 6 Batch 300 Loss 3.4488 Accuracy 0.2563\n",
            "Epoch 6 Batch 350 Loss 3.4423 Accuracy 0.2569\n",
            "Epoch 6 Batch 400 Loss 3.4359 Accuracy 0.2574\n",
            "Epoch 6 Batch 450 Loss 3.4268 Accuracy 0.2581\n",
            "Epoch 6 Batch 500 Loss 3.4192 Accuracy 0.2587\n",
            "Epoch 6 Loss 3.4140 Accuracy 0.2593\n",
            "Time taken for 1 epoch: 32.720595359802246 secs\n",
            "\n",
            "Epoch 7 Batch 0 Loss 3.1964 Accuracy 0.2887\n",
            "Epoch 7 Batch 50 Loss 3.0738 Accuracy 0.2803\n",
            "Epoch 7 Batch 100 Loss 3.0984 Accuracy 0.2790\n",
            "Epoch 7 Batch 150 Loss 3.1071 Accuracy 0.2769\n",
            "Epoch 7 Batch 200 Loss 3.1144 Accuracy 0.2776\n",
            "Epoch 7 Batch 250 Loss 3.0994 Accuracy 0.2781\n",
            "Epoch 7 Batch 300 Loss 3.1029 Accuracy 0.2789\n",
            "Epoch 7 Batch 350 Loss 3.0983 Accuracy 0.2796\n",
            "Epoch 7 Batch 400 Loss 3.0973 Accuracy 0.2798\n",
            "Epoch 7 Batch 450 Loss 3.0948 Accuracy 0.2804\n",
            "Epoch 7 Batch 500 Loss 3.0913 Accuracy 0.2809\n",
            "Epoch 7 Loss 3.0906 Accuracy 0.2810\n",
            "Time taken for 1 epoch: 33.691383361816406 secs\n",
            "\n",
            "Epoch 8 Batch 0 Loss 2.7984 Accuracy 0.3132\n",
            "Epoch 8 Batch 50 Loss 2.7746 Accuracy 0.3015\n",
            "Epoch 8 Batch 100 Loss 2.7935 Accuracy 0.3005\n",
            "Epoch 8 Batch 150 Loss 2.7879 Accuracy 0.3007\n",
            "Epoch 8 Batch 200 Loss 2.7954 Accuracy 0.2994\n",
            "Epoch 8 Batch 250 Loss 2.7933 Accuracy 0.2990\n",
            "Epoch 8 Batch 300 Loss 2.8039 Accuracy 0.2988\n",
            "Epoch 8 Batch 350 Loss 2.8077 Accuracy 0.2987\n",
            "Epoch 8 Batch 400 Loss 2.8062 Accuracy 0.2997\n",
            "Epoch 8 Batch 450 Loss 2.8051 Accuracy 0.2997\n",
            "Epoch 8 Batch 500 Loss 2.8055 Accuracy 0.3000\n",
            "Epoch 8 Loss 2.8047 Accuracy 0.3001\n",
            "Time taken for 1 epoch: 32.908164501190186 secs\n",
            "\n",
            "Epoch 9 Batch 0 Loss 2.4612 Accuracy 0.3152\n",
            "Epoch 9 Batch 50 Loss 2.4561 Accuracy 0.3212\n",
            "Epoch 9 Batch 100 Loss 2.4700 Accuracy 0.3191\n",
            "Epoch 9 Batch 150 Loss 2.4837 Accuracy 0.3191\n",
            "Epoch 9 Batch 200 Loss 2.4868 Accuracy 0.3190\n",
            "Epoch 9 Batch 250 Loss 2.4884 Accuracy 0.3192\n",
            "Epoch 9 Batch 300 Loss 2.4911 Accuracy 0.3195\n",
            "Epoch 9 Batch 350 Loss 2.4945 Accuracy 0.3196\n",
            "Epoch 9 Batch 400 Loss 2.4924 Accuracy 0.3200\n",
            "Epoch 9 Batch 450 Loss 2.4927 Accuracy 0.3203\n",
            "Epoch 9 Batch 500 Loss 2.4913 Accuracy 0.3205\n",
            "Epoch 9 Loss 2.4936 Accuracy 0.3205\n",
            "Time taken for 1 epoch: 32.7476224899292 secs\n",
            "\n",
            "Epoch 10 Batch 0 Loss 2.0025 Accuracy 0.3662\n",
            "Epoch 10 Batch 50 Loss 2.1262 Accuracy 0.3461\n",
            "Epoch 10 Batch 100 Loss 2.1448 Accuracy 0.3430\n",
            "Epoch 10 Batch 150 Loss 2.1588 Accuracy 0.3435\n",
            "Epoch 10 Batch 200 Loss 2.1709 Accuracy 0.3420\n",
            "Epoch 10 Batch 250 Loss 2.1825 Accuracy 0.3410\n",
            "Epoch 10 Batch 300 Loss 2.1936 Accuracy 0.3409\n",
            "Epoch 10 Batch 350 Loss 2.1982 Accuracy 0.3405\n",
            "Epoch 10 Batch 400 Loss 2.2071 Accuracy 0.3400\n",
            "Epoch 10 Batch 450 Loss 2.2146 Accuracy 0.3401\n",
            "Epoch 10 Batch 500 Loss 2.2168 Accuracy 0.3400\n",
            "Saving checkpoint for epoch 10 at ./checkpoints/train/ckpt-2\n",
            "Epoch 10 Loss 2.2187 Accuracy 0.3399\n",
            "Time taken for 1 epoch: 33.10801839828491 secs\n",
            "\n",
            "Epoch 11 Batch 0 Loss 1.8120 Accuracy 0.3646\n",
            "Epoch 11 Batch 50 Loss 1.9193 Accuracy 0.3596\n",
            "Epoch 11 Batch 100 Loss 1.9260 Accuracy 0.3579\n",
            "Epoch 11 Batch 150 Loss 1.9388 Accuracy 0.3582\n",
            "Epoch 11 Batch 200 Loss 1.9514 Accuracy 0.3588\n",
            "Epoch 11 Batch 250 Loss 1.9541 Accuracy 0.3588\n",
            "Epoch 11 Batch 300 Loss 1.9660 Accuracy 0.3587\n",
            "Epoch 11 Batch 350 Loss 1.9716 Accuracy 0.3583\n",
            "Epoch 11 Batch 400 Loss 1.9783 Accuracy 0.3579\n",
            "Epoch 11 Batch 450 Loss 1.9846 Accuracy 0.3574\n",
            "Epoch 11 Batch 500 Loss 1.9895 Accuracy 0.3571\n",
            "Epoch 11 Loss 1.9936 Accuracy 0.3570\n",
            "Time taken for 1 epoch: 32.995370864868164 secs\n",
            "\n",
            "Epoch 12 Batch 0 Loss 1.6056 Accuracy 0.3764\n",
            "Epoch 12 Batch 50 Loss 1.7012 Accuracy 0.3808\n",
            "Epoch 12 Batch 100 Loss 1.7172 Accuracy 0.3770\n",
            "Epoch 12 Batch 150 Loss 1.7360 Accuracy 0.3744\n",
            "Epoch 12 Batch 200 Loss 1.7483 Accuracy 0.3736\n",
            "Epoch 12 Batch 250 Loss 1.7597 Accuracy 0.3732\n",
            "Epoch 12 Batch 300 Loss 1.7692 Accuracy 0.3731\n",
            "Epoch 12 Batch 350 Loss 1.7749 Accuracy 0.3724\n",
            "Epoch 12 Batch 400 Loss 1.7878 Accuracy 0.3714\n",
            "Epoch 12 Batch 450 Loss 1.7979 Accuracy 0.3706\n",
            "Epoch 12 Batch 500 Loss 1.8079 Accuracy 0.3704\n",
            "Epoch 12 Loss 1.8124 Accuracy 0.3700\n",
            "Time taken for 1 epoch: 33.14703178405762 secs\n",
            "\n",
            "Epoch 13 Batch 0 Loss 1.4699 Accuracy 0.4287\n",
            "Epoch 13 Batch 50 Loss 1.5334 Accuracy 0.3925\n",
            "Epoch 13 Batch 100 Loss 1.5536 Accuracy 0.3914\n",
            "Epoch 13 Batch 150 Loss 1.5760 Accuracy 0.3882\n",
            "Epoch 13 Batch 200 Loss 1.5923 Accuracy 0.3876\n",
            "Epoch 13 Batch 250 Loss 1.6030 Accuracy 0.3862\n",
            "Epoch 13 Batch 300 Loss 1.6142 Accuracy 0.3850\n",
            "Epoch 13 Batch 350 Loss 1.6253 Accuracy 0.3838\n",
            "Epoch 13 Batch 400 Loss 1.6356 Accuracy 0.3833\n",
            "Epoch 13 Batch 450 Loss 1.6462 Accuracy 0.3825\n",
            "Epoch 13 Batch 500 Loss 1.6566 Accuracy 0.3815\n",
            "Epoch 13 Loss 1.6605 Accuracy 0.3814\n",
            "Time taken for 1 epoch: 32.4972620010376 secs\n",
            "\n",
            "Epoch 14 Batch 0 Loss 1.3240 Accuracy 0.3963\n",
            "Epoch 14 Batch 50 Loss 1.4014 Accuracy 0.3972\n",
            "Epoch 14 Batch 100 Loss 1.4194 Accuracy 0.4009\n",
            "Epoch 14 Batch 150 Loss 1.4407 Accuracy 0.3996\n",
            "Epoch 14 Batch 200 Loss 1.4535 Accuracy 0.3990\n",
            "Epoch 14 Batch 250 Loss 1.4636 Accuracy 0.3980\n",
            "Epoch 14 Batch 300 Loss 1.4800 Accuracy 0.3961\n",
            "Epoch 14 Batch 350 Loss 1.4942 Accuracy 0.3960\n",
            "Epoch 14 Batch 400 Loss 1.5060 Accuracy 0.3946\n",
            "Epoch 14 Batch 450 Loss 1.5146 Accuracy 0.3938\n",
            "Epoch 14 Batch 500 Loss 1.5252 Accuracy 0.3925\n",
            "Epoch 14 Loss 1.5293 Accuracy 0.3922\n",
            "Time taken for 1 epoch: 32.51378035545349 secs\n",
            "\n",
            "Epoch 15 Batch 0 Loss 1.2091 Accuracy 0.4154\n",
            "Epoch 15 Batch 50 Loss 1.3061 Accuracy 0.4098\n",
            "Epoch 15 Batch 100 Loss 1.3271 Accuracy 0.4084\n",
            "Epoch 15 Batch 150 Loss 1.3372 Accuracy 0.4059\n",
            "Epoch 15 Batch 200 Loss 1.3565 Accuracy 0.4044\n",
            "Epoch 15 Batch 250 Loss 1.3673 Accuracy 0.4042\n",
            "Epoch 15 Batch 300 Loss 1.3776 Accuracy 0.4039\n",
            "Epoch 15 Batch 350 Loss 1.3856 Accuracy 0.4033\n",
            "Epoch 15 Batch 400 Loss 1.3957 Accuracy 0.4028\n",
            "Epoch 15 Batch 450 Loss 1.4060 Accuracy 0.4018\n",
            "Epoch 15 Batch 500 Loss 1.4143 Accuracy 0.4012\n",
            "Saving checkpoint for epoch 15 at ./checkpoints/train/ckpt-3\n",
            "Epoch 15 Loss 1.4202 Accuracy 0.4009\n",
            "Time taken for 1 epoch: 33.50572681427002 secs\n",
            "\n",
            "Epoch 16 Batch 0 Loss 1.2273 Accuracy 0.4518\n",
            "Epoch 16 Batch 50 Loss 1.2115 Accuracy 0.4241\n",
            "Epoch 16 Batch 100 Loss 1.2140 Accuracy 0.4195\n",
            "Epoch 16 Batch 150 Loss 1.2265 Accuracy 0.4171\n",
            "Epoch 16 Batch 200 Loss 1.2414 Accuracy 0.4178\n",
            "Epoch 16 Batch 250 Loss 1.2559 Accuracy 0.4162\n",
            "Epoch 16 Batch 300 Loss 1.2707 Accuracy 0.4150\n",
            "Epoch 16 Batch 350 Loss 1.2828 Accuracy 0.4139\n",
            "Epoch 16 Batch 400 Loss 1.2953 Accuracy 0.4123\n",
            "Epoch 16 Batch 450 Loss 1.3054 Accuracy 0.4113\n",
            "Epoch 16 Batch 500 Loss 1.3166 Accuracy 0.4099\n",
            "Epoch 16 Loss 1.3236 Accuracy 0.4097\n",
            "Time taken for 1 epoch: 33.50021433830261 secs\n",
            "\n",
            "Epoch 17 Batch 0 Loss 1.0559 Accuracy 0.4310\n",
            "Epoch 17 Batch 50 Loss 1.1101 Accuracy 0.4311\n",
            "Epoch 17 Batch 100 Loss 1.1245 Accuracy 0.4272\n",
            "Epoch 17 Batch 150 Loss 1.1411 Accuracy 0.4253\n",
            "Epoch 17 Batch 200 Loss 1.1563 Accuracy 0.4243\n",
            "Epoch 17 Batch 250 Loss 1.1713 Accuracy 0.4228\n",
            "Epoch 17 Batch 300 Loss 1.1863 Accuracy 0.4206\n",
            "Epoch 17 Batch 350 Loss 1.2003 Accuracy 0.4197\n",
            "Epoch 17 Batch 400 Loss 1.2115 Accuracy 0.4183\n",
            "Epoch 17 Batch 450 Loss 1.2213 Accuracy 0.4175\n",
            "Epoch 17 Batch 500 Loss 1.2324 Accuracy 0.4170\n",
            "Epoch 17 Loss 1.2383 Accuracy 0.4169\n",
            "Time taken for 1 epoch: 32.64031219482422 secs\n",
            "\n",
            "Epoch 18 Batch 0 Loss 0.8336 Accuracy 0.4654\n",
            "Epoch 18 Batch 50 Loss 1.0448 Accuracy 0.4315\n",
            "Epoch 18 Batch 100 Loss 1.0483 Accuracy 0.4324\n",
            "Epoch 18 Batch 150 Loss 1.0662 Accuracy 0.4314\n",
            "Epoch 18 Batch 200 Loss 1.0782 Accuracy 0.4313\n",
            "Epoch 18 Batch 250 Loss 1.0950 Accuracy 0.4304\n",
            "Epoch 18 Batch 300 Loss 1.1073 Accuracy 0.4294\n",
            "Epoch 18 Batch 350 Loss 1.1211 Accuracy 0.4282\n",
            "Epoch 18 Batch 400 Loss 1.1318 Accuracy 0.4266\n",
            "Epoch 18 Batch 450 Loss 1.1434 Accuracy 0.4252\n",
            "Epoch 18 Batch 500 Loss 1.1552 Accuracy 0.4242\n",
            "Epoch 18 Loss 1.1614 Accuracy 0.4238\n",
            "Time taken for 1 epoch: 32.59379959106445 secs\n",
            "\n",
            "Epoch 19 Batch 0 Loss 1.0039 Accuracy 0.4572\n",
            "Epoch 19 Batch 50 Loss 0.9801 Accuracy 0.4478\n",
            "Epoch 19 Batch 100 Loss 0.9895 Accuracy 0.4456\n",
            "Epoch 19 Batch 150 Loss 1.0075 Accuracy 0.4419\n",
            "Epoch 19 Batch 200 Loss 1.0214 Accuracy 0.4382\n",
            "Epoch 19 Batch 250 Loss 1.0312 Accuracy 0.4370\n",
            "Epoch 19 Batch 300 Loss 1.0424 Accuracy 0.4357\n",
            "Epoch 19 Batch 350 Loss 1.0551 Accuracy 0.4342\n",
            "Epoch 19 Batch 400 Loss 1.0650 Accuracy 0.4334\n",
            "Epoch 19 Batch 450 Loss 1.0776 Accuracy 0.4322\n",
            "Epoch 19 Batch 500 Loss 1.0880 Accuracy 0.4313\n",
            "Epoch 19 Loss 1.0931 Accuracy 0.4307\n",
            "Time taken for 1 epoch: 32.892770767211914 secs\n",
            "\n",
            "Epoch 20 Batch 0 Loss 0.9119 Accuracy 0.4284\n",
            "Epoch 20 Batch 50 Loss 0.9043 Accuracy 0.4525\n",
            "Epoch 20 Batch 100 Loss 0.9189 Accuracy 0.4518\n",
            "Epoch 20 Batch 150 Loss 0.9390 Accuracy 0.4479\n",
            "Epoch 20 Batch 200 Loss 0.9579 Accuracy 0.4461\n",
            "Epoch 20 Batch 250 Loss 0.9698 Accuracy 0.4439\n",
            "Epoch 20 Batch 300 Loss 0.9780 Accuracy 0.4428\n",
            "Epoch 20 Batch 350 Loss 0.9901 Accuracy 0.4411\n",
            "Epoch 20 Batch 400 Loss 1.0011 Accuracy 0.4403\n",
            "Epoch 20 Batch 450 Loss 1.0129 Accuracy 0.4385\n",
            "Epoch 20 Batch 500 Loss 1.0236 Accuracy 0.4370\n",
            "Saving checkpoint for epoch 20 at ./checkpoints/train/ckpt-4\n",
            "Epoch 20 Loss 1.0282 Accuracy 0.4369\n",
            "Time taken for 1 epoch: 33.44918465614319 secs\n",
            "\n"
          ]
        }
      ],
      "source": [
        "for epoch in range(EPOCHS):\n",
        "    start = time.time()\n",
        "\n",
        "    train_loss.reset_state()\n",
        "    train_accuracy.reset_state()\n",
        "\n",
        "    # inp -> portuguese, tar -> english\n",
        "    for (batch, (inp, tar)) in enumerate(train_dataset):\n",
        "        train_step(inp, tar)\n",
        "\n",
        "        if batch % 50 == 0:\n",
        "            print ('Epoch {} Batch {} Loss {:.4f} Accuracy {:.4f}'.format(\n",
        "                epoch + 1, batch, train_loss.result(), train_accuracy.result()))\n",
        "\n",
        "    if (epoch + 1) % 5 == 0:\n",
        "        ckpt_save_path = ckpt_manager.save()\n",
        "        print ('Saving checkpoint for epoch {} at {}'.format(epoch+1,\n",
        "                                                             ckpt_save_path))\n",
        "\n",
        "    print ('Epoch {} Loss {:.4f} Accuracy {:.4f}'.format(epoch + 1,\n",
        "                                                  train_loss.result(),\n",
        "                                                  train_accuracy.result()))\n",
        "\n",
        "    print ('Time taken for 1 epoch: {} secs\\n'.format(time.time() - start))"
      ]
    },
    {
      "cell_type": "markdown",
      "metadata": {
        "id": "QfcsSWswSdGV"
      },
      "source": [
        "## Evaluate"
      ]
    },
    {
      "cell_type": "markdown",
      "metadata": {
        "id": "y6APsFrgImLW"
      },
      "source": [
        "The following steps are used for evaluation:\n",
        "\n",
        "* Encode the input sentence using the Portuguese tokenizer (`tokenizer_pt`). Moreover, add the start and end token so the input is equivalent to what the model is trained with. This is the encoder input.\n",
        "* The decoder input is the `start token == tokenizer_en.vocab_size`.\n",
        "* Calculate the padding masks and the look ahead masks.\n",
        "* The `decoder` then outputs the predictions by looking at the `encoder output` and its own output (self-attention).\n",
        "* Select the last word and calculate the argmax of that.\n",
        "* Concatentate the predicted word to the decoder input as pass it to the decoder.\n",
        "* In this approach, the decoder predicts the next word based on the previous words it predicted.\n",
        "\n",
        "Note: The model used here has less capacity to keep the example relatively faster so the predictions maybe less right. To reproduce the results in the paper, use the entire dataset and base transformer model or transformer XL, by changing the hyperparameters above."
      ]
    },
    {
      "cell_type": "code",
      "execution_count": null,
      "metadata": {
        "id": "5buvMlnvyrFm"
      },
      "outputs": [],
      "source": [
        "def evaluate(inp_sentence):\n",
        "  start_token = [tokenizer_pt.vocab_size]\n",
        "  end_token = [tokenizer_pt.vocab_size + 1]\n",
        "\n",
        "  # inp sentence is portuguese, hence adding the start and end token\n",
        "  inp_sentence = start_token + tokenizer_pt.encode(inp_sentence) + end_token\n",
        "  encoder_input = tf.expand_dims(inp_sentence, 0)\n",
        "\n",
        "  # as the target is english, the first word to the transformer should be the\n",
        "  # english start token.\n",
        "  decoder_input = [tokenizer_en.vocab_size]\n",
        "  output = tf.expand_dims(decoder_input, 0)\n",
        "\n",
        "  for i in range(MAX_LENGTH):\n",
        "    enc_padding_mask, combined_mask, dec_padding_mask = create_masks(\n",
        "        encoder_input, output)\n",
        "\n",
        "    # predictions.shape == (batch_size, seq_len, vocab_size)\n",
        "    predictions, attention_weights = transformer(\n",
        "                                                encoder_input,\n",
        "                                                output,\n",
        "                                                training=False,\n",
        "                                                enc_padding_mask=enc_padding_mask,\n",
        "                                                look_ahead_mask=combined_mask,\n",
        "                                                dec_padding_mask=dec_padding_mask,\n",
        "                                            )\n",
        "\n",
        "    # select the last word from the seq_len dimension\n",
        "    predictions = predictions[: ,-1:, :]  # (batch_size, 1, vocab_size)\n",
        "\n",
        "    predicted_id = tf.cast(tf.argmax(predictions, axis=-1), tf.int32)\n",
        "\n",
        "    # return the result if the predicted_id is equal to the end token\n",
        "    if predicted_id == tokenizer_en.vocab_size+1:\n",
        "      return tf.squeeze(output, axis=0), attention_weights\n",
        "\n",
        "    # concatentate the predicted_id to the output which is given to the decoder\n",
        "    # as its input.\n",
        "    output = tf.concat([output, predicted_id], axis=-1)\n",
        "\n",
        "  return tf.squeeze(output, axis=0), attention_weights"
      ]
    },
    {
      "cell_type": "code",
      "execution_count": null,
      "metadata": {
        "id": "CN-BV43FMBej"
      },
      "outputs": [],
      "source": [
        "def plot_attention_weights(attention, sentence, result, layer):\n",
        "  fig = plt.figure(figsize=(16, 8))\n",
        "\n",
        "  sentence = tokenizer_pt.encode(sentence)\n",
        "\n",
        "  attention = tf.squeeze(attention[layer], axis=0)\n",
        "\n",
        "  for head in range(attention.shape[0]):\n",
        "    ax = fig.add_subplot(2, 4, head+1)\n",
        "\n",
        "    # plot the attention weights\n",
        "    ax.matshow(attention[head][:-1, :], cmap='viridis')\n",
        "\n",
        "\n",
        "    fontdict = {'fontsize': 10}\n",
        "\n",
        "    ax.set_xticks(range(len(sentence)+2))\n",
        "    ax.set_yticks(range(len(result)-1))\n",
        "\n",
        "    ax.set_ylim(len(result)-1.5, -0.5)\n",
        "\n",
        "    ax.set_xticklabels(\n",
        "        ['<start>']+[tokenizer_pt.decode([i]) for i in sentence]+['<end>'],\n",
        "        fontdict=fontdict, rotation=90)\n",
        "\n",
        "    ax.set_yticklabels([tokenizer_en.decode([i]) for i in result\n",
        "                        if i < tokenizer_en.vocab_size],\n",
        "                       fontdict=fontdict)\n",
        "\n",
        "    ax.set_xlabel('Head {}'.format(head+1))\n",
        "\n",
        "  plt.tight_layout()\n",
        "  plt.show()"
      ]
    },
    {
      "cell_type": "code",
      "execution_count": null,
      "metadata": {
        "id": "lU2_yG_vBGza"
      },
      "outputs": [],
      "source": [
        "def translate(sentence, plot=''):\n",
        "  result, attention_weights = evaluate(sentence)\n",
        "\n",
        "  predicted_sentence = tokenizer_en.decode([i for i in result\n",
        "                                            if i < tokenizer_en.vocab_size])\n",
        "\n",
        "  print('Input: {}'.format(sentence))\n",
        "  print('Predicted translation: {}'.format(predicted_sentence))\n",
        "\n",
        "  if plot:\n",
        "    plot_attention_weights(attention_weights, sentence, result, plot)"
      ]
    },
    {
      "cell_type": "code",
      "execution_count": null,
      "metadata": {
        "id": "YsxrAlvFG8SZ",
        "colab": {
          "base_uri": "https://localhost:8080/"
        },
        "outputId": "1798d736-fe7a-45a6-bbc8-7a6048a2ca31"
      },
      "outputs": [
        {
          "output_type": "stream",
          "name": "stdout",
          "text": [
            "Input: este é um problema que temos que resolver.\n",
            "Predicted translation: this is a problem that we have to deal with it .\n",
            "Real translation: this is a problem we have to solve .\n"
          ]
        }
      ],
      "source": [
        "translate(\"este é um problema que temos que resolver.\")\n",
        "print (\"Real translation: this is a problem we have to solve .\")"
      ]
    },
    {
      "cell_type": "code",
      "execution_count": null,
      "metadata": {
        "id": "7EH5y_aqI4t1",
        "colab": {
          "base_uri": "https://localhost:8080/"
        },
        "outputId": "b87d3312-b713-4645-a742-cdefe6b7fb8d"
      },
      "outputs": [
        {
          "output_type": "stream",
          "name": "stdout",
          "text": [
            "Input: os meus vizinhos ouviram sobre esta ideia.\n",
            "Predicted translation: my neighbors heard about this idea .\n",
            "Real translation: and my neighboring homes heard about this idea .\n"
          ]
        }
      ],
      "source": [
        "translate(\"os meus vizinhos ouviram sobre esta ideia.\")\n",
        "print (\"Real translation: and my neighboring homes heard about this idea .\")"
      ]
    },
    {
      "cell_type": "code",
      "execution_count": null,
      "metadata": {
        "id": "J-hVCTSUMlkb",
        "colab": {
          "base_uri": "https://localhost:8080/"
        },
        "outputId": "c1216ecf-30b1-4a78-80b7-7e83c5f50b81"
      },
      "outputs": [
        {
          "output_type": "stream",
          "name": "stdout",
          "text": [
            "Input: vou então muito rapidamente partilhar convosco algumas histórias de algumas coisas mágicas que aconteceram.\n",
            "Predicted translation: so i 'm going to share very quickly share with you a couple of magic things that have happened .\n",
            "Real translation: so i 'll just share with you some stories very quickly of some magical things that have happened .\n"
          ]
        }
      ],
      "source": [
        "translate(\"vou então muito rapidamente partilhar convosco algumas histórias de algumas coisas mágicas que aconteceram.\")\n",
        "print (\"Real translation: so i 'll just share with you some stories very quickly of some magical things that have happened .\")"
      ]
    },
    {
      "cell_type": "markdown",
      "metadata": {
        "id": "_1MxkSZvz0jX"
      },
      "source": [
        "You can pass different layers and attention blocks of the decoder to the `plot` parameter."
      ]
    },
    {
      "cell_type": "code",
      "execution_count": null,
      "metadata": {
        "id": "t-kFyiOLH0xg",
        "colab": {
          "base_uri": "https://localhost:8080/",
          "height": 725
        },
        "outputId": "10689f7d-eaba-4f6d-feef-e33d8cd1dd89"
      },
      "outputs": [
        {
          "output_type": "stream",
          "name": "stdout",
          "text": [
            "Input: este é o primeiro livro que eu fiz.\n",
            "Predicted translation: this is the first book i did .\n"
          ]
        },
        {
          "output_type": "display_data",
          "data": {
            "text/plain": [
              "<Figure size 1600x800 with 8 Axes>"
            ],
            "image/png": "[encoded data removed]"
          },
          "metadata": {}
        },
        {
          "output_type": "stream",
          "name": "stdout",
          "text": [
            "Real translation: this is the first book i've ever done.\n"
          ]
        }
      ],
      "source": [
        "translate(\"este é o primeiro livro que eu fiz.\", plot='decoder_layer4_block2')\n",
        "print (\"Real translation: this is the first book i've ever done.\")"
      ]
    },
    {
      "cell_type": "markdown",
      "metadata": {
        "id": "RqQ1fIsLwkGE"
      },
      "source": [
        "## Summary\n",
        "\n",
        "You've learned about positional encoding, multi-head attention, the importance of masking and how to create a transformer.\n",
        "\n",
        "\n",
        "Try using a different dataset to train the transformer. You can also create the base transformer or transformer XL by changing the hyperparameters above. You can also use the layers defined here to create [BERT](https://arxiv.org/abs/1810.04805) and train state of the art models. Futhermore, you can implement beam search to get better predictions."
      ]
    },
    {
      "cell_type": "markdown",
      "metadata": {
        "id": "qArpHhpGSsVy"
      },
      "source": [
        "\n",
        "\n",
        "<a name='7'></a>\n",
        "## 7 - References\n",
        "\n",
        "The Transformer algorithm was due to Vaswani et al. (2017).\n",
        "\n",
        "- Ashish Vaswani, Noam Shazeer, Niki Parmar, Jakob Uszkoreit, Llion Jones, Aidan N. Gomez, Lukasz Kaiser, Illia Polosukhin (2017). [Attention Is All You Need](https://arxiv.org/abs/1706.03762)"
      ]
    }
  ],
  "metadata": {
    "accelerator": "GPU",
    "colab": {
      "gpuType": "T4",
      "provenance": [],
      "include_colab_link": true
    },
    "kernelspec": {
      "display_name": "Python 3",
      "name": "python3"
    },
    "language_info": {
      "codemirror_mode": {
        "name": "ipython",
        "version": 3
      },
      "file_extension": ".py",
      "mimetype": "text/x-python",
      "name": "python",
      "nbconvert_exporter": "python",
      "pygments_lexer": "ipython3",
      "version": "3.11.4"
    }
  },
  "nbformat": 4,
  "nbformat_minor": 0
}